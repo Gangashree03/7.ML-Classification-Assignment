{
 "cells": [
  {
   "cell_type": "code",
   "execution_count": 1,
   "metadata": {},
   "outputs": [],
   "source": [
    "import pandas as pd"
   ]
  },
  {
   "cell_type": "code",
   "execution_count": 2,
   "metadata": {},
   "outputs": [],
   "source": [
    "dataset=pd.read_csv(\"CKD.csv\")"
   ]
  },
  {
   "cell_type": "code",
   "execution_count": 3,
   "metadata": {},
   "outputs": [],
   "source": [
    "dataset=pd.get_dummies(dataset,drop_first=True)"
   ]
  },
  {
   "cell_type": "code",
   "execution_count": 4,
   "metadata": {},
   "outputs": [
    {
     "data": {
      "text/plain": [
       "Index(['age', 'bp', 'al', 'su', 'bgr', 'bu', 'sc', 'sod', 'pot', 'hrmo', 'pcv',\n",
       "       'wc', 'rc', 'sg_b', 'sg_c', 'sg_d', 'sg_e', 'rbc_normal', 'pc_normal',\n",
       "       'pcc_present', 'ba_present', 'htn_yes', 'dm_yes', 'cad_yes',\n",
       "       'appet_yes', 'pe_yes', 'ane_yes', 'classification_yes'],\n",
       "      dtype='object')"
      ]
     },
     "execution_count": 4,
     "metadata": {},
     "output_type": "execute_result"
    }
   ],
   "source": [
    "dataset.columns"
   ]
  },
  {
   "cell_type": "code",
   "execution_count": 5,
   "metadata": {},
   "outputs": [
    {
     "data": {
      "text/plain": [
       "1    249\n",
       "0    150\n",
       "Name: classification_yes, dtype: int64"
      ]
     },
     "execution_count": 5,
     "metadata": {},
     "output_type": "execute_result"
    }
   ],
   "source": [
    "dataset[\"classification_yes\"].value_counts()"
   ]
  },
  {
   "cell_type": "code",
   "execution_count": 6,
   "metadata": {},
   "outputs": [],
   "source": [
    "indep=dataset[['age', 'bp', 'al', 'su', 'bgr', 'bu', 'sc', 'sod', 'pot', 'hrmo', 'pcv',\n",
    "       'wc', 'rc', 'sg_b', 'sg_c', 'sg_d', 'sg_e', 'rbc_normal', 'pc_normal',\n",
    "       'pcc_present', 'ba_present', 'htn_yes', 'dm_yes', 'cad_yes',\n",
    "       'appet_yes', 'pe_yes', 'ane_yes'  ]]\n",
    "dep=dataset[['classification_yes' ]]"
   ]
  },
  {
   "cell_type": "code",
   "execution_count": 7,
   "metadata": {},
   "outputs": [],
   "source": [
    "from sklearn.model_selection import train_test_split\n",
    "X_train, X_test, y_train, y_test = train_test_split(indep, dep, test_size = 1/3, random_state = 0)"
   ]
  },
  {
   "cell_type": "code",
   "execution_count": 8,
   "metadata": {},
   "outputs": [],
   "source": [
    "from sklearn.preprocessing import StandardScaler\n",
    "sc= StandardScaler()\n",
    "x_train=sc.fit_transform(X_train)\n",
    "x_test=sc.transform(X_test)"
   ]
  },
  {
   "cell_type": "code",
   "execution_count": 9,
   "metadata": {},
   "outputs": [
    {
     "name": "stdout",
     "output_type": "stream",
     "text": [
      "Fitting 5 folds for each of 8 candidates, totalling 40 fits\n"
     ]
    },
    {
     "data": {
      "text/plain": [
       "GridSearchCV(estimator=RandomForestClassifier(), n_jobs=-1,\n",
       "             param_grid={'criterion': ['gini', 'entropy'],\n",
       "                         'max_features': ['sqrt', 'log2'],\n",
       "                         'n_estimators': [10, 100]},\n",
       "             verbose=3)"
      ]
     },
     "execution_count": 9,
     "metadata": {},
     "output_type": "execute_result"
    }
   ],
   "source": [
    "from sklearn.ensemble import RandomForestClassifier\n",
    "from sklearn.model_selection import GridSearchCV\n",
    "y_train = y_train.values.ravel()\n",
    "param_grid = {'criterion':['gini', 'entropy'],'max_features': ['sqrt','log2'],'n_estimators':[10,100]}\n",
    "grid = GridSearchCV(RandomForestClassifier(), param_grid, refit = True, verbose = 3,n_jobs=-1)\n",
    "grid.fit(x_train, y_train)"
   ]
  },
  {
   "cell_type": "code",
   "execution_count": 10,
   "metadata": {},
   "outputs": [
    {
     "name": "stdout",
     "output_type": "stream",
     "text": [
      "                                              params  mean_test_score  \\\n",
      "0  {'criterion': 'gini', 'max_features': 'sqrt', ...         0.969881   \n",
      "1  {'criterion': 'gini', 'max_features': 'sqrt', ...         0.977428   \n",
      "2  {'criterion': 'gini', 'max_features': 'log2', ...         0.958630   \n",
      "3  {'criterion': 'gini', 'max_features': 'log2', ...         0.981132   \n",
      "4  {'criterion': 'entropy', 'max_features': 'sqrt...         0.973725   \n",
      "5  {'criterion': 'entropy', 'max_features': 'sqrt...         0.981132   \n",
      "6  {'criterion': 'entropy', 'max_features': 'log2...         0.981202   \n",
      "7  {'criterion': 'entropy', 'max_features': 'log2...         0.973585   \n",
      "\n",
      "   std_test_score  \n",
      "0        0.019283  \n",
      "1        0.014139  \n",
      "2        0.014160  \n",
      "3        0.020669  \n",
      "4        0.022573  \n",
      "5        0.016876  \n",
      "6        0.011934  \n",
      "7        0.022642  \n"
     ]
    }
   ],
   "source": [
    "results = pd.DataFrame(grid.cv_results_)\n",
    "print(results[['params', 'mean_test_score', 'std_test_score']])"
   ]
  },
  {
   "cell_type": "code",
   "execution_count": 11,
   "metadata": {},
   "outputs": [
    {
     "data": {
      "text/html": [
       "<div>\n",
       "<style scoped>\n",
       "    .dataframe tbody tr th:only-of-type {\n",
       "        vertical-align: middle;\n",
       "    }\n",
       "\n",
       "    .dataframe tbody tr th {\n",
       "        vertical-align: top;\n",
       "    }\n",
       "\n",
       "    .dataframe thead th {\n",
       "        text-align: right;\n",
       "    }\n",
       "</style>\n",
       "<table border=\"1\" class=\"dataframe\">\n",
       "  <thead>\n",
       "    <tr style=\"text-align: right;\">\n",
       "      <th></th>\n",
       "      <th>mean_fit_time</th>\n",
       "      <th>std_fit_time</th>\n",
       "      <th>mean_score_time</th>\n",
       "      <th>std_score_time</th>\n",
       "      <th>param_criterion</th>\n",
       "      <th>param_max_features</th>\n",
       "      <th>param_n_estimators</th>\n",
       "      <th>params</th>\n",
       "      <th>split0_test_score</th>\n",
       "      <th>split1_test_score</th>\n",
       "      <th>split2_test_score</th>\n",
       "      <th>split3_test_score</th>\n",
       "      <th>split4_test_score</th>\n",
       "      <th>mean_test_score</th>\n",
       "      <th>std_test_score</th>\n",
       "      <th>rank_test_score</th>\n",
       "    </tr>\n",
       "  </thead>\n",
       "  <tbody>\n",
       "    <tr>\n",
       "      <th>0</th>\n",
       "      <td>0.060778</td>\n",
       "      <td>0.015985</td>\n",
       "      <td>0.004726</td>\n",
       "      <td>0.006270</td>\n",
       "      <td>gini</td>\n",
       "      <td>sqrt</td>\n",
       "      <td>10</td>\n",
       "      <td>{'criterion': 'gini', 'max_features': 'sqrt', ...</td>\n",
       "      <td>0.981481</td>\n",
       "      <td>0.962264</td>\n",
       "      <td>0.943396</td>\n",
       "      <td>0.962264</td>\n",
       "      <td>1.000000</td>\n",
       "      <td>0.969881</td>\n",
       "      <td>0.019283</td>\n",
       "      <td>7</td>\n",
       "    </tr>\n",
       "    <tr>\n",
       "      <th>1</th>\n",
       "      <td>0.540909</td>\n",
       "      <td>0.090092</td>\n",
       "      <td>0.032496</td>\n",
       "      <td>0.002997</td>\n",
       "      <td>gini</td>\n",
       "      <td>sqrt</td>\n",
       "      <td>100</td>\n",
       "      <td>{'criterion': 'gini', 'max_features': 'sqrt', ...</td>\n",
       "      <td>0.981481</td>\n",
       "      <td>0.962264</td>\n",
       "      <td>0.981132</td>\n",
       "      <td>0.962264</td>\n",
       "      <td>1.000000</td>\n",
       "      <td>0.977428</td>\n",
       "      <td>0.014139</td>\n",
       "      <td>4</td>\n",
       "    </tr>\n",
       "    <tr>\n",
       "      <th>2</th>\n",
       "      <td>0.057084</td>\n",
       "      <td>0.016151</td>\n",
       "      <td>0.008068</td>\n",
       "      <td>0.008888</td>\n",
       "      <td>gini</td>\n",
       "      <td>log2</td>\n",
       "      <td>10</td>\n",
       "      <td>{'criterion': 'gini', 'max_features': 'log2', ...</td>\n",
       "      <td>0.962963</td>\n",
       "      <td>0.943396</td>\n",
       "      <td>0.943396</td>\n",
       "      <td>0.962264</td>\n",
       "      <td>0.981132</td>\n",
       "      <td>0.958630</td>\n",
       "      <td>0.014160</td>\n",
       "      <td>8</td>\n",
       "    </tr>\n",
       "    <tr>\n",
       "      <th>3</th>\n",
       "      <td>0.698108</td>\n",
       "      <td>0.183434</td>\n",
       "      <td>0.114880</td>\n",
       "      <td>0.052156</td>\n",
       "      <td>gini</td>\n",
       "      <td>log2</td>\n",
       "      <td>100</td>\n",
       "      <td>{'criterion': 'gini', 'max_features': 'log2', ...</td>\n",
       "      <td>1.000000</td>\n",
       "      <td>0.943396</td>\n",
       "      <td>0.981132</td>\n",
       "      <td>0.981132</td>\n",
       "      <td>1.000000</td>\n",
       "      <td>0.981132</td>\n",
       "      <td>0.020669</td>\n",
       "      <td>2</td>\n",
       "    </tr>\n",
       "    <tr>\n",
       "      <th>4</th>\n",
       "      <td>0.056417</td>\n",
       "      <td>0.030330</td>\n",
       "      <td>0.007927</td>\n",
       "      <td>0.004941</td>\n",
       "      <td>entropy</td>\n",
       "      <td>sqrt</td>\n",
       "      <td>10</td>\n",
       "      <td>{'criterion': 'entropy', 'max_features': 'sqrt...</td>\n",
       "      <td>0.962963</td>\n",
       "      <td>0.943396</td>\n",
       "      <td>1.000000</td>\n",
       "      <td>0.962264</td>\n",
       "      <td>1.000000</td>\n",
       "      <td>0.973725</td>\n",
       "      <td>0.022573</td>\n",
       "      <td>5</td>\n",
       "    </tr>\n",
       "    <tr>\n",
       "      <th>5</th>\n",
       "      <td>0.534020</td>\n",
       "      <td>0.098881</td>\n",
       "      <td>0.037048</td>\n",
       "      <td>0.013428</td>\n",
       "      <td>entropy</td>\n",
       "      <td>sqrt</td>\n",
       "      <td>100</td>\n",
       "      <td>{'criterion': 'entropy', 'max_features': 'sqrt...</td>\n",
       "      <td>1.000000</td>\n",
       "      <td>0.962264</td>\n",
       "      <td>0.962264</td>\n",
       "      <td>0.981132</td>\n",
       "      <td>1.000000</td>\n",
       "      <td>0.981132</td>\n",
       "      <td>0.016876</td>\n",
       "      <td>2</td>\n",
       "    </tr>\n",
       "    <tr>\n",
       "      <th>6</th>\n",
       "      <td>0.039276</td>\n",
       "      <td>0.007001</td>\n",
       "      <td>0.009376</td>\n",
       "      <td>0.007655</td>\n",
       "      <td>entropy</td>\n",
       "      <td>log2</td>\n",
       "      <td>10</td>\n",
       "      <td>{'criterion': 'entropy', 'max_features': 'log2...</td>\n",
       "      <td>0.981481</td>\n",
       "      <td>0.962264</td>\n",
       "      <td>1.000000</td>\n",
       "      <td>0.981132</td>\n",
       "      <td>0.981132</td>\n",
       "      <td>0.981202</td>\n",
       "      <td>0.011934</td>\n",
       "      <td>1</td>\n",
       "    </tr>\n",
       "    <tr>\n",
       "      <th>7</th>\n",
       "      <td>0.408448</td>\n",
       "      <td>0.048201</td>\n",
       "      <td>0.021877</td>\n",
       "      <td>0.007653</td>\n",
       "      <td>entropy</td>\n",
       "      <td>log2</td>\n",
       "      <td>100</td>\n",
       "      <td>{'criterion': 'entropy', 'max_features': 'log2...</td>\n",
       "      <td>1.000000</td>\n",
       "      <td>0.943396</td>\n",
       "      <td>0.962264</td>\n",
       "      <td>0.962264</td>\n",
       "      <td>1.000000</td>\n",
       "      <td>0.973585</td>\n",
       "      <td>0.022642</td>\n",
       "      <td>6</td>\n",
       "    </tr>\n",
       "  </tbody>\n",
       "</table>\n",
       "</div>"
      ],
      "text/plain": [
       "   mean_fit_time  std_fit_time  mean_score_time  std_score_time  \\\n",
       "0       0.060778      0.015985         0.004726        0.006270   \n",
       "1       0.540909      0.090092         0.032496        0.002997   \n",
       "2       0.057084      0.016151         0.008068        0.008888   \n",
       "3       0.698108      0.183434         0.114880        0.052156   \n",
       "4       0.056417      0.030330         0.007927        0.004941   \n",
       "5       0.534020      0.098881         0.037048        0.013428   \n",
       "6       0.039276      0.007001         0.009376        0.007655   \n",
       "7       0.408448      0.048201         0.021877        0.007653   \n",
       "\n",
       "  param_criterion param_max_features param_n_estimators  \\\n",
       "0            gini               sqrt                 10   \n",
       "1            gini               sqrt                100   \n",
       "2            gini               log2                 10   \n",
       "3            gini               log2                100   \n",
       "4         entropy               sqrt                 10   \n",
       "5         entropy               sqrt                100   \n",
       "6         entropy               log2                 10   \n",
       "7         entropy               log2                100   \n",
       "\n",
       "                                              params  split0_test_score  \\\n",
       "0  {'criterion': 'gini', 'max_features': 'sqrt', ...           0.981481   \n",
       "1  {'criterion': 'gini', 'max_features': 'sqrt', ...           0.981481   \n",
       "2  {'criterion': 'gini', 'max_features': 'log2', ...           0.962963   \n",
       "3  {'criterion': 'gini', 'max_features': 'log2', ...           1.000000   \n",
       "4  {'criterion': 'entropy', 'max_features': 'sqrt...           0.962963   \n",
       "5  {'criterion': 'entropy', 'max_features': 'sqrt...           1.000000   \n",
       "6  {'criterion': 'entropy', 'max_features': 'log2...           0.981481   \n",
       "7  {'criterion': 'entropy', 'max_features': 'log2...           1.000000   \n",
       "\n",
       "   split1_test_score  split2_test_score  split3_test_score  split4_test_score  \\\n",
       "0           0.962264           0.943396           0.962264           1.000000   \n",
       "1           0.962264           0.981132           0.962264           1.000000   \n",
       "2           0.943396           0.943396           0.962264           0.981132   \n",
       "3           0.943396           0.981132           0.981132           1.000000   \n",
       "4           0.943396           1.000000           0.962264           1.000000   \n",
       "5           0.962264           0.962264           0.981132           1.000000   \n",
       "6           0.962264           1.000000           0.981132           0.981132   \n",
       "7           0.943396           0.962264           0.962264           1.000000   \n",
       "\n",
       "   mean_test_score  std_test_score  rank_test_score  \n",
       "0         0.969881        0.019283                7  \n",
       "1         0.977428        0.014139                4  \n",
       "2         0.958630        0.014160                8  \n",
       "3         0.981132        0.020669                2  \n",
       "4         0.973725        0.022573                5  \n",
       "5         0.981132        0.016876                2  \n",
       "6         0.981202        0.011934                1  \n",
       "7         0.973585        0.022642                6  "
      ]
     },
     "execution_count": 11,
     "metadata": {},
     "output_type": "execute_result"
    }
   ],
   "source": [
    "re=grid.cv_results_\n",
    "table=pd.DataFrame.from_dict(re)\n",
    "table"
   ]
  },
  {
   "cell_type": "code",
   "execution_count": 12,
   "metadata": {},
   "outputs": [
    {
     "name": "stdout",
     "output_type": "stream",
     "text": [
      "Best parameter {'criterion': 'entropy', 'max_features': 'log2', 'n_estimators': 10} \n",
      "Best Estimator RandomForestClassifier(criterion='entropy', max_features='log2',\n",
      "                       n_estimators=10) \n",
      "Best Score 0.9812019566736547 \n"
     ]
    }
   ],
   "source": [
    "bestParams=grid.best_params_\n",
    "bestEstimator=grid.best_estimator_\n",
    "bestScore=grid.best_score_\n",
    "print(\"Best parameter {} \".format(bestParams))\n",
    "print(\"Best Estimator {} \".format(bestEstimator))\n",
    "print(\"Best Score {} \".format(bestScore))"
   ]
  },
  {
   "cell_type": "code",
   "execution_count": 13,
   "metadata": {},
   "outputs": [],
   "source": [
    "gridPred=grid.predict(x_test)"
   ]
  },
  {
   "cell_type": "code",
   "execution_count": 14,
   "metadata": {},
   "outputs": [
    {
     "name": "stdout",
     "output_type": "stream",
     "text": [
      "[[50  1]\n",
      " [ 2 80]]\n"
     ]
    }
   ],
   "source": [
    "from sklearn.metrics import confusion_matrix\n",
    "cm=confusion_matrix(y_test,gridPred)\n",
    "print(cm)"
   ]
  },
  {
   "cell_type": "code",
   "execution_count": 15,
   "metadata": {},
   "outputs": [
    {
     "name": "stdout",
     "output_type": "stream",
     "text": [
      "              precision    recall  f1-score   support\n",
      "\n",
      "           0       0.96      0.98      0.97        51\n",
      "           1       0.99      0.98      0.98        82\n",
      "\n",
      "    accuracy                           0.98       133\n",
      "   macro avg       0.97      0.98      0.98       133\n",
      "weighted avg       0.98      0.98      0.98       133\n",
      "\n"
     ]
    }
   ],
   "source": [
    "from sklearn.metrics import classification_report\n",
    "clf_report=classification_report(y_test,gridPred)\n",
    "print(clf_report)"
   ]
  },
  {
   "cell_type": "code",
   "execution_count": 16,
   "metadata": {},
   "outputs": [
    {
     "data": {
      "text/plain": [
       "0.9990435198469632"
      ]
     },
     "execution_count": 16,
     "metadata": {},
     "output_type": "execute_result"
    }
   ],
   "source": [
    "from sklearn.metrics import roc_auc_score\n",
    "roc_auc_score(y_test,grid.predict_proba(x_test)[:,1])"
   ]
  },
  {
   "cell_type": "code",
   "execution_count": 17,
   "metadata": {},
   "outputs": [
    {
     "name": "stdout",
     "output_type": "stream",
     "text": [
      "0.9774839146827697\n"
     ]
    }
   ],
   "source": [
    "from sklearn.metrics import f1_score\n",
    "fscore=f1_score(y_test,gridPred,average='weighted')\n",
    "print(fscore)"
   ]
  },
  {
   "cell_type": "code",
   "execution_count": 18,
   "metadata": {},
   "outputs": [
    {
     "data": {
      "text/plain": [
       "Index(['age', 'bp', 'al', 'su', 'bgr', 'bu', 'sc', 'sod', 'pot', 'hrmo', 'pcv',\n",
       "       'wc', 'rc', 'sg_b', 'sg_c', 'sg_d', 'sg_e', 'rbc_normal', 'pc_normal',\n",
       "       'pcc_present', 'ba_present', 'htn_yes', 'dm_yes', 'cad_yes',\n",
       "       'appet_yes', 'pe_yes', 'ane_yes'],\n",
       "      dtype='object')"
      ]
     },
     "execution_count": 18,
     "metadata": {},
     "output_type": "execute_result"
    }
   ],
   "source": [
    "indep.columns"
   ]
  },
  {
   "cell_type": "code",
   "execution_count": 20,
   "metadata": {},
   "outputs": [
    {
     "name": "stdout",
     "output_type": "stream",
     "text": [
      "AGE:21\n",
      "BP:55.34\n",
      "AL:2.3\n",
      "SU:2\n",
      "BGR:89.3\n",
      "BU:34.3\n",
      "SC:2\n",
      "SOD120.4\n",
      "POT:2.3\n",
      "HRMO:7.4\n",
      "PCV:23\n",
      "WC:1200\n",
      "RC:2.5\n",
      "SG B:0\n",
      "SG C:1\n",
      "SG D:0\n",
      "SG E:0\n",
      "RBC NORMAL:1\n",
      "PC NORMAL:0\n",
      "PC PRESENT:1\n",
      "BA PRESENT:1\n",
      "HTN YES:1\n",
      "DM YES:0\n",
      "CAD YES:0\n",
      "APPET YES:1\n",
      "PE YES1\n",
      "ANE YES:0\n"
     ]
    }
   ],
   "source": [
    "age=int(input(\"AGE:\"))\n",
    "bp=float(input(\"BP:\"))\n",
    "al=float(input(\"AL:\"))\n",
    "su=int(input(\"SU:\"))\n",
    "bgr=float(input(\"BGR:\"))\n",
    "bu=float(input(\"BU:\"))\n",
    "sc=int(input(\"SC:\"))\n",
    "sod=float(input(\"SOD\"))\n",
    "pot=float(input(\"POT:\"))\n",
    "hrmo=float(input(\"HRMO:\"))\n",
    "pcv=int(input(\"PCV:\"))\n",
    "wc=int(input(\"WC:\"))\n",
    "rc=float(input(\"RC:\"))\n",
    "sg_b=int(input(\"SG B:\"))\n",
    "sg_c=int(input(\"SG C:\"))\n",
    "sg_d=int(input(\"SG D:\"))\n",
    "sg_e=int(input(\"SG E:\"))\n",
    "rbc_normal=int(input(\"RBC NORMAL:\"))\n",
    "pc_normal=int(input(\"PC NORMAL:\"))\n",
    "pcc_present=int(input(\"PC PRESENT:\"))\n",
    "ba_present=int(input(\"BA PRESENT:\"))\n",
    "htn_yes=int(input(\"HTN YES:\"))\n",
    "dm_yes=int(input(\"DM YES:\"))\n",
    "cad_yes=int(input(\"CAD YES:\"))\n",
    "appet_yes=int(input(\"APPET YES:\"))\n",
    "pe_yes=int(input(\"PE YES\"))\n",
    "ane_yes=int(input(\"ANE YES:\"))"
   ]
  },
  {
   "cell_type": "code",
   "execution_count": 21,
   "metadata": {},
   "outputs": [],
   "source": [
    "Prediction=grid.predict([[age,bp,al,su, bgr, bu, sc, sod, pot, hrmo, pcv,\n",
    "       wc, rc, sg_b, sg_c, sg_d, sg_e, rbc_normal, pc_normal,\n",
    "       pcc_present, ba_present, htn_yes, dm_yes, cad_yes,\n",
    "       appet_yes, pe_yes, ane_yes]])"
   ]
  },
  {
   "cell_type": "code",
   "execution_count": 22,
   "metadata": {},
   "outputs": [
    {
     "name": "stdout",
     "output_type": "stream",
     "text": [
      " Prediction Value : [1] \n"
     ]
    }
   ],
   "source": [
    "print(\" Prediction Value : {} \".format(Prediction))"
   ]
  },
  {
   "cell_type": "code",
   "execution_count": null,
   "metadata": {},
   "outputs": [],
   "source": []
  }
 ],
 "metadata": {
  "kernelspec": {
   "display_name": "Python 3",
   "language": "python",
   "name": "python3"
  },
  "language_info": {
   "codemirror_mode": {
    "name": "ipython",
    "version": 3
   },
   "file_extension": ".py",
   "mimetype": "text/x-python",
   "name": "python",
   "nbconvert_exporter": "python",
   "pygments_lexer": "ipython3",
   "version": "3.7.4"
  }
 },
 "nbformat": 4,
 "nbformat_minor": 2
}
