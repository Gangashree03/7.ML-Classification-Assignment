{
 "cells": [
  {
   "cell_type": "code",
   "execution_count": 1,
   "metadata": {},
   "outputs": [],
   "source": [
    "import pandas as pd"
   ]
  },
  {
   "cell_type": "code",
   "execution_count": 2,
   "metadata": {},
   "outputs": [],
   "source": [
    "dataset=pd.read_csv(\"CKD.csv\")"
   ]
  },
  {
   "cell_type": "code",
   "execution_count": 3,
   "metadata": {},
   "outputs": [],
   "source": [
    "dataset=pd.get_dummies(dataset,drop_first=True)"
   ]
  },
  {
   "cell_type": "code",
   "execution_count": 4,
   "metadata": {},
   "outputs": [
    {
     "data": {
      "text/plain": [
       "Index(['age', 'bp', 'al', 'su', 'bgr', 'bu', 'sc', 'sod', 'pot', 'hrmo', 'pcv',\n",
       "       'wc', 'rc', 'sg_b', 'sg_c', 'sg_d', 'sg_e', 'rbc_normal', 'pc_normal',\n",
       "       'pcc_present', 'ba_present', 'htn_yes', 'dm_yes', 'cad_yes',\n",
       "       'appet_yes', 'pe_yes', 'ane_yes', 'classification_yes'],\n",
       "      dtype='object')"
      ]
     },
     "execution_count": 4,
     "metadata": {},
     "output_type": "execute_result"
    }
   ],
   "source": [
    "dataset.columns"
   ]
  },
  {
   "cell_type": "code",
   "execution_count": 5,
   "metadata": {},
   "outputs": [
    {
     "data": {
      "text/plain": [
       "1    249\n",
       "0    150\n",
       "Name: classification_yes, dtype: int64"
      ]
     },
     "execution_count": 5,
     "metadata": {},
     "output_type": "execute_result"
    }
   ],
   "source": [
    "dataset[\"classification_yes\"].value_counts()"
   ]
  },
  {
   "cell_type": "code",
   "execution_count": 6,
   "metadata": {},
   "outputs": [],
   "source": [
    "indep=dataset[['age', 'bp', 'al', 'su', 'bgr', 'bu', 'sc', 'sod', 'pot', 'hrmo', 'pcv',\n",
    "       'wc', 'rc', 'sg_b', 'sg_c', 'sg_d', 'sg_e', 'rbc_normal', 'pc_normal',\n",
    "       'pcc_present', 'ba_present', 'htn_yes', 'dm_yes', 'cad_yes',\n",
    "       'appet_yes', 'pe_yes', 'ane_yes'  ]]\n",
    "dep=dataset[['classification_yes' ]]"
   ]
  },
  {
   "cell_type": "code",
   "execution_count": 7,
   "metadata": {},
   "outputs": [],
   "source": [
    "from sklearn.model_selection import train_test_split\n",
    "X_train, X_test, y_train, y_test = train_test_split(indep, dep, test_size = 1/3, random_state = 0)"
   ]
  },
  {
   "cell_type": "code",
   "execution_count": 8,
   "metadata": {},
   "outputs": [],
   "source": [
    "from sklearn.preprocessing import StandardScaler\n",
    "sc= StandardScaler()\n",
    "x_train=sc.fit_transform(X_train)\n",
    "x_test=sc.transform(X_test)"
   ]
  },
  {
   "cell_type": "code",
   "execution_count": 9,
   "metadata": {},
   "outputs": [
    {
     "name": "stdout",
     "output_type": "stream",
     "text": [
      "Fitting 5 folds for each of 16 candidates, totalling 80 fits\n"
     ]
    },
    {
     "data": {
      "text/plain": [
       "GridSearchCV(estimator=SVC(probability=True), n_jobs=-1,\n",
       "             param_grid={'C': [100, 1000], 'gamma': ['scale', 'auto'],\n",
       "                         'kernel': ['linear', 'poly', 'rbf', 'sigmoid']},\n",
       "             scoring='f1_weighted', verbose=3)"
      ]
     },
     "execution_count": 9,
     "metadata": {},
     "output_type": "execute_result"
    }
   ],
   "source": [
    "from sklearn.svm import SVC\n",
    "from sklearn.model_selection import GridSearchCV\n",
    "y_train = y_train.values.ravel()\n",
    "param_grid={ 'kernel':['linear', 'poly', 'rbf', 'sigmoid'],\n",
    "             'gamma' :['scale', 'auto'], 'C' : [100,1000] \n",
    "                }\n",
    "grid=GridSearchCV(SVC(probability=True),param_grid,refit=True,n_jobs=-1,verbose=3,scoring='f1_weighted')\n",
    "grid.fit(x_train,y_train)"
   ]
  },
  {
   "cell_type": "code",
   "execution_count": 10,
   "metadata": {},
   "outputs": [
    {
     "name": "stdout",
     "output_type": "stream",
     "text": [
      "                                               params  mean_test_score  \\\n",
      "0    {'C': 100, 'gamma': 'scale', 'kernel': 'linear'}         0.973805   \n",
      "1      {'C': 100, 'gamma': 'scale', 'kernel': 'poly'}         0.985103   \n",
      "2       {'C': 100, 'gamma': 'scale', 'kernel': 'rbf'}         0.985066   \n",
      "3   {'C': 100, 'gamma': 'scale', 'kernel': 'sigmoid'}         0.970065   \n",
      "4     {'C': 100, 'gamma': 'auto', 'kernel': 'linear'}         0.973805   \n",
      "5       {'C': 100, 'gamma': 'auto', 'kernel': 'poly'}         0.985103   \n",
      "6        {'C': 100, 'gamma': 'auto', 'kernel': 'rbf'}         0.985066   \n",
      "7    {'C': 100, 'gamma': 'auto', 'kernel': 'sigmoid'}         0.970065   \n",
      "8   {'C': 1000, 'gamma': 'scale', 'kernel': 'linear'}         0.973805   \n",
      "9     {'C': 1000, 'gamma': 'scale', 'kernel': 'poly'}         0.981346   \n",
      "10     {'C': 1000, 'gamma': 'scale', 'kernel': 'rbf'}         0.985066   \n",
      "11  {'C': 1000, 'gamma': 'scale', 'kernel': 'sigmo...         0.970018   \n",
      "12   {'C': 1000, 'gamma': 'auto', 'kernel': 'linear'}         0.973805   \n",
      "13     {'C': 1000, 'gamma': 'auto', 'kernel': 'poly'}         0.981346   \n",
      "14      {'C': 1000, 'gamma': 'auto', 'kernel': 'rbf'}         0.985066   \n",
      "15  {'C': 1000, 'gamma': 'auto', 'kernel': 'sigmoid'}         0.970018   \n",
      "\n",
      "    std_test_score  \n",
      "0         0.009147  \n",
      "1         0.013797  \n",
      "2         0.013807  \n",
      "3         0.022459  \n",
      "4         0.009147  \n",
      "5         0.013797  \n",
      "6         0.013807  \n",
      "7         0.022459  \n",
      "8         0.009147  \n",
      "9         0.011613  \n",
      "10        0.013807  \n",
      "11        0.015021  \n",
      "12        0.009147  \n",
      "13        0.011613  \n",
      "14        0.013807  \n",
      "15        0.015021  \n"
     ]
    }
   ],
   "source": [
    "results = pd.DataFrame(grid.cv_results_)\n",
    "print(results[['params', 'mean_test_score', 'std_test_score']])"
   ]
  },
  {
   "cell_type": "code",
   "execution_count": 11,
   "metadata": {},
   "outputs": [
    {
     "data": {
      "text/html": [
       "<div>\n",
       "<style scoped>\n",
       "    .dataframe tbody tr th:only-of-type {\n",
       "        vertical-align: middle;\n",
       "    }\n",
       "\n",
       "    .dataframe tbody tr th {\n",
       "        vertical-align: top;\n",
       "    }\n",
       "\n",
       "    .dataframe thead th {\n",
       "        text-align: right;\n",
       "    }\n",
       "</style>\n",
       "<table border=\"1\" class=\"dataframe\">\n",
       "  <thead>\n",
       "    <tr style=\"text-align: right;\">\n",
       "      <th></th>\n",
       "      <th>mean_fit_time</th>\n",
       "      <th>std_fit_time</th>\n",
       "      <th>mean_score_time</th>\n",
       "      <th>std_score_time</th>\n",
       "      <th>param_C</th>\n",
       "      <th>param_gamma</th>\n",
       "      <th>param_kernel</th>\n",
       "      <th>params</th>\n",
       "      <th>split0_test_score</th>\n",
       "      <th>split1_test_score</th>\n",
       "      <th>split2_test_score</th>\n",
       "      <th>split3_test_score</th>\n",
       "      <th>split4_test_score</th>\n",
       "      <th>mean_test_score</th>\n",
       "      <th>std_test_score</th>\n",
       "      <th>rank_test_score</th>\n",
       "    </tr>\n",
       "  </thead>\n",
       "  <tbody>\n",
       "    <tr>\n",
       "      <th>0</th>\n",
       "      <td>0.087890</td>\n",
       "      <td>0.144646</td>\n",
       "      <td>0.003126</td>\n",
       "      <td>0.006252</td>\n",
       "      <td>100</td>\n",
       "      <td>scale</td>\n",
       "      <td>linear</td>\n",
       "      <td>{'C': 100, 'gamma': 'scale', 'kernel': 'linear'}</td>\n",
       "      <td>0.981569</td>\n",
       "      <td>0.962636</td>\n",
       "      <td>0.962573</td>\n",
       "      <td>0.981031</td>\n",
       "      <td>0.981217</td>\n",
       "      <td>0.973805</td>\n",
       "      <td>0.009147</td>\n",
       "      <td>9</td>\n",
       "    </tr>\n",
       "    <tr>\n",
       "      <th>1</th>\n",
       "      <td>0.015970</td>\n",
       "      <td>0.001714</td>\n",
       "      <td>0.003204</td>\n",
       "      <td>0.003190</td>\n",
       "      <td>100</td>\n",
       "      <td>scale</td>\n",
       "      <td>poly</td>\n",
       "      <td>{'C': 100, 'gamma': 'scale', 'kernel': 'poly'}</td>\n",
       "      <td>0.963284</td>\n",
       "      <td>0.981014</td>\n",
       "      <td>1.000000</td>\n",
       "      <td>1.000000</td>\n",
       "      <td>0.981217</td>\n",
       "      <td>0.985103</td>\n",
       "      <td>0.013797</td>\n",
       "      <td>1</td>\n",
       "    </tr>\n",
       "    <tr>\n",
       "      <th>2</th>\n",
       "      <td>0.008953</td>\n",
       "      <td>0.005993</td>\n",
       "      <td>0.000400</td>\n",
       "      <td>0.000801</td>\n",
       "      <td>100</td>\n",
       "      <td>scale</td>\n",
       "      <td>rbf</td>\n",
       "      <td>{'C': 100, 'gamma': 'scale', 'kernel': 'rbf'}</td>\n",
       "      <td>0.963284</td>\n",
       "      <td>0.981014</td>\n",
       "      <td>1.000000</td>\n",
       "      <td>0.981031</td>\n",
       "      <td>1.000000</td>\n",
       "      <td>0.985066</td>\n",
       "      <td>0.013807</td>\n",
       "      <td>3</td>\n",
       "    </tr>\n",
       "    <tr>\n",
       "      <th>3</th>\n",
       "      <td>0.020064</td>\n",
       "      <td>0.013325</td>\n",
       "      <td>0.004526</td>\n",
       "      <td>0.005847</td>\n",
       "      <td>100</td>\n",
       "      <td>scale</td>\n",
       "      <td>sigmoid</td>\n",
       "      <td>{'C': 100, 'gamma': 'scale', 'kernel': 'sigmoid'}</td>\n",
       "      <td>0.981569</td>\n",
       "      <td>0.943699</td>\n",
       "      <td>0.944023</td>\n",
       "      <td>0.981031</td>\n",
       "      <td>1.000000</td>\n",
       "      <td>0.970065</td>\n",
       "      <td>0.022459</td>\n",
       "      <td>13</td>\n",
       "    </tr>\n",
       "    <tr>\n",
       "      <th>4</th>\n",
       "      <td>0.005201</td>\n",
       "      <td>0.003188</td>\n",
       "      <td>0.006401</td>\n",
       "      <td>0.004745</td>\n",
       "      <td>100</td>\n",
       "      <td>auto</td>\n",
       "      <td>linear</td>\n",
       "      <td>{'C': 100, 'gamma': 'auto', 'kernel': 'linear'}</td>\n",
       "      <td>0.981569</td>\n",
       "      <td>0.962636</td>\n",
       "      <td>0.962573</td>\n",
       "      <td>0.981031</td>\n",
       "      <td>0.981217</td>\n",
       "      <td>0.973805</td>\n",
       "      <td>0.009147</td>\n",
       "      <td>9</td>\n",
       "    </tr>\n",
       "    <tr>\n",
       "      <th>5</th>\n",
       "      <td>0.009376</td>\n",
       "      <td>0.007655</td>\n",
       "      <td>0.006251</td>\n",
       "      <td>0.007655</td>\n",
       "      <td>100</td>\n",
       "      <td>auto</td>\n",
       "      <td>poly</td>\n",
       "      <td>{'C': 100, 'gamma': 'auto', 'kernel': 'poly'}</td>\n",
       "      <td>0.963284</td>\n",
       "      <td>0.981014</td>\n",
       "      <td>1.000000</td>\n",
       "      <td>1.000000</td>\n",
       "      <td>0.981217</td>\n",
       "      <td>0.985103</td>\n",
       "      <td>0.013797</td>\n",
       "      <td>1</td>\n",
       "    </tr>\n",
       "    <tr>\n",
       "      <th>6</th>\n",
       "      <td>0.012500</td>\n",
       "      <td>0.006250</td>\n",
       "      <td>0.003126</td>\n",
       "      <td>0.006251</td>\n",
       "      <td>100</td>\n",
       "      <td>auto</td>\n",
       "      <td>rbf</td>\n",
       "      <td>{'C': 100, 'gamma': 'auto', 'kernel': 'rbf'}</td>\n",
       "      <td>0.963284</td>\n",
       "      <td>0.981014</td>\n",
       "      <td>1.000000</td>\n",
       "      <td>0.981031</td>\n",
       "      <td>1.000000</td>\n",
       "      <td>0.985066</td>\n",
       "      <td>0.013807</td>\n",
       "      <td>3</td>\n",
       "    </tr>\n",
       "    <tr>\n",
       "      <th>7</th>\n",
       "      <td>0.003125</td>\n",
       "      <td>0.006249</td>\n",
       "      <td>0.003126</td>\n",
       "      <td>0.006252</td>\n",
       "      <td>100</td>\n",
       "      <td>auto</td>\n",
       "      <td>sigmoid</td>\n",
       "      <td>{'C': 100, 'gamma': 'auto', 'kernel': 'sigmoid'}</td>\n",
       "      <td>0.981569</td>\n",
       "      <td>0.943699</td>\n",
       "      <td>0.944023</td>\n",
       "      <td>0.981031</td>\n",
       "      <td>1.000000</td>\n",
       "      <td>0.970065</td>\n",
       "      <td>0.022459</td>\n",
       "      <td>13</td>\n",
       "    </tr>\n",
       "    <tr>\n",
       "      <th>8</th>\n",
       "      <td>0.006250</td>\n",
       "      <td>0.007655</td>\n",
       "      <td>0.000000</td>\n",
       "      <td>0.000000</td>\n",
       "      <td>1000</td>\n",
       "      <td>scale</td>\n",
       "      <td>linear</td>\n",
       "      <td>{'C': 1000, 'gamma': 'scale', 'kernel': 'linear'}</td>\n",
       "      <td>0.981569</td>\n",
       "      <td>0.962636</td>\n",
       "      <td>0.962573</td>\n",
       "      <td>0.981031</td>\n",
       "      <td>0.981217</td>\n",
       "      <td>0.973805</td>\n",
       "      <td>0.009147</td>\n",
       "      <td>9</td>\n",
       "    </tr>\n",
       "    <tr>\n",
       "      <th>9</th>\n",
       "      <td>0.009376</td>\n",
       "      <td>0.007656</td>\n",
       "      <td>0.003126</td>\n",
       "      <td>0.006251</td>\n",
       "      <td>1000</td>\n",
       "      <td>scale</td>\n",
       "      <td>poly</td>\n",
       "      <td>{'C': 1000, 'gamma': 'scale', 'kernel': 'poly'}</td>\n",
       "      <td>0.963284</td>\n",
       "      <td>0.981014</td>\n",
       "      <td>0.981217</td>\n",
       "      <td>1.000000</td>\n",
       "      <td>0.981217</td>\n",
       "      <td>0.981346</td>\n",
       "      <td>0.011613</td>\n",
       "      <td>7</td>\n",
       "    </tr>\n",
       "    <tr>\n",
       "      <th>10</th>\n",
       "      <td>0.006251</td>\n",
       "      <td>0.007656</td>\n",
       "      <td>0.003125</td>\n",
       "      <td>0.006250</td>\n",
       "      <td>1000</td>\n",
       "      <td>scale</td>\n",
       "      <td>rbf</td>\n",
       "      <td>{'C': 1000, 'gamma': 'scale', 'kernel': 'rbf'}</td>\n",
       "      <td>0.963284</td>\n",
       "      <td>0.981014</td>\n",
       "      <td>1.000000</td>\n",
       "      <td>0.981031</td>\n",
       "      <td>1.000000</td>\n",
       "      <td>0.985066</td>\n",
       "      <td>0.013807</td>\n",
       "      <td>3</td>\n",
       "    </tr>\n",
       "    <tr>\n",
       "      <th>11</th>\n",
       "      <td>0.006250</td>\n",
       "      <td>0.007655</td>\n",
       "      <td>0.003125</td>\n",
       "      <td>0.006251</td>\n",
       "      <td>1000</td>\n",
       "      <td>scale</td>\n",
       "      <td>sigmoid</td>\n",
       "      <td>{'C': 1000, 'gamma': 'scale', 'kernel': 'sigmo...</td>\n",
       "      <td>0.981569</td>\n",
       "      <td>0.943699</td>\n",
       "      <td>0.962573</td>\n",
       "      <td>0.981031</td>\n",
       "      <td>0.981217</td>\n",
       "      <td>0.970018</td>\n",
       "      <td>0.015021</td>\n",
       "      <td>15</td>\n",
       "    </tr>\n",
       "    <tr>\n",
       "      <th>12</th>\n",
       "      <td>0.006251</td>\n",
       "      <td>0.007656</td>\n",
       "      <td>0.000000</td>\n",
       "      <td>0.000000</td>\n",
       "      <td>1000</td>\n",
       "      <td>auto</td>\n",
       "      <td>linear</td>\n",
       "      <td>{'C': 1000, 'gamma': 'auto', 'kernel': 'linear'}</td>\n",
       "      <td>0.981569</td>\n",
       "      <td>0.962636</td>\n",
       "      <td>0.962573</td>\n",
       "      <td>0.981031</td>\n",
       "      <td>0.981217</td>\n",
       "      <td>0.973805</td>\n",
       "      <td>0.009147</td>\n",
       "      <td>9</td>\n",
       "    </tr>\n",
       "    <tr>\n",
       "      <th>13</th>\n",
       "      <td>0.012501</td>\n",
       "      <td>0.006251</td>\n",
       "      <td>0.000000</td>\n",
       "      <td>0.000000</td>\n",
       "      <td>1000</td>\n",
       "      <td>auto</td>\n",
       "      <td>poly</td>\n",
       "      <td>{'C': 1000, 'gamma': 'auto', 'kernel': 'poly'}</td>\n",
       "      <td>0.963284</td>\n",
       "      <td>0.981014</td>\n",
       "      <td>0.981217</td>\n",
       "      <td>1.000000</td>\n",
       "      <td>0.981217</td>\n",
       "      <td>0.981346</td>\n",
       "      <td>0.011613</td>\n",
       "      <td>7</td>\n",
       "    </tr>\n",
       "    <tr>\n",
       "      <th>14</th>\n",
       "      <td>0.006251</td>\n",
       "      <td>0.007656</td>\n",
       "      <td>0.000000</td>\n",
       "      <td>0.000000</td>\n",
       "      <td>1000</td>\n",
       "      <td>auto</td>\n",
       "      <td>rbf</td>\n",
       "      <td>{'C': 1000, 'gamma': 'auto', 'kernel': 'rbf'}</td>\n",
       "      <td>0.963284</td>\n",
       "      <td>0.981014</td>\n",
       "      <td>1.000000</td>\n",
       "      <td>0.981031</td>\n",
       "      <td>1.000000</td>\n",
       "      <td>0.985066</td>\n",
       "      <td>0.013807</td>\n",
       "      <td>3</td>\n",
       "    </tr>\n",
       "    <tr>\n",
       "      <th>15</th>\n",
       "      <td>0.000000</td>\n",
       "      <td>0.000000</td>\n",
       "      <td>0.000000</td>\n",
       "      <td>0.000000</td>\n",
       "      <td>1000</td>\n",
       "      <td>auto</td>\n",
       "      <td>sigmoid</td>\n",
       "      <td>{'C': 1000, 'gamma': 'auto', 'kernel': 'sigmoid'}</td>\n",
       "      <td>0.981569</td>\n",
       "      <td>0.943699</td>\n",
       "      <td>0.962573</td>\n",
       "      <td>0.981031</td>\n",
       "      <td>0.981217</td>\n",
       "      <td>0.970018</td>\n",
       "      <td>0.015021</td>\n",
       "      <td>15</td>\n",
       "    </tr>\n",
       "  </tbody>\n",
       "</table>\n",
       "</div>"
      ],
      "text/plain": [
       "    mean_fit_time  std_fit_time  mean_score_time  std_score_time param_C  \\\n",
       "0        0.087890      0.144646         0.003126        0.006252     100   \n",
       "1        0.015970      0.001714         0.003204        0.003190     100   \n",
       "2        0.008953      0.005993         0.000400        0.000801     100   \n",
       "3        0.020064      0.013325         0.004526        0.005847     100   \n",
       "4        0.005201      0.003188         0.006401        0.004745     100   \n",
       "5        0.009376      0.007655         0.006251        0.007655     100   \n",
       "6        0.012500      0.006250         0.003126        0.006251     100   \n",
       "7        0.003125      0.006249         0.003126        0.006252     100   \n",
       "8        0.006250      0.007655         0.000000        0.000000    1000   \n",
       "9        0.009376      0.007656         0.003126        0.006251    1000   \n",
       "10       0.006251      0.007656         0.003125        0.006250    1000   \n",
       "11       0.006250      0.007655         0.003125        0.006251    1000   \n",
       "12       0.006251      0.007656         0.000000        0.000000    1000   \n",
       "13       0.012501      0.006251         0.000000        0.000000    1000   \n",
       "14       0.006251      0.007656         0.000000        0.000000    1000   \n",
       "15       0.000000      0.000000         0.000000        0.000000    1000   \n",
       "\n",
       "   param_gamma param_kernel  \\\n",
       "0        scale       linear   \n",
       "1        scale         poly   \n",
       "2        scale          rbf   \n",
       "3        scale      sigmoid   \n",
       "4         auto       linear   \n",
       "5         auto         poly   \n",
       "6         auto          rbf   \n",
       "7         auto      sigmoid   \n",
       "8        scale       linear   \n",
       "9        scale         poly   \n",
       "10       scale          rbf   \n",
       "11       scale      sigmoid   \n",
       "12        auto       linear   \n",
       "13        auto         poly   \n",
       "14        auto          rbf   \n",
       "15        auto      sigmoid   \n",
       "\n",
       "                                               params  split0_test_score  \\\n",
       "0    {'C': 100, 'gamma': 'scale', 'kernel': 'linear'}           0.981569   \n",
       "1      {'C': 100, 'gamma': 'scale', 'kernel': 'poly'}           0.963284   \n",
       "2       {'C': 100, 'gamma': 'scale', 'kernel': 'rbf'}           0.963284   \n",
       "3   {'C': 100, 'gamma': 'scale', 'kernel': 'sigmoid'}           0.981569   \n",
       "4     {'C': 100, 'gamma': 'auto', 'kernel': 'linear'}           0.981569   \n",
       "5       {'C': 100, 'gamma': 'auto', 'kernel': 'poly'}           0.963284   \n",
       "6        {'C': 100, 'gamma': 'auto', 'kernel': 'rbf'}           0.963284   \n",
       "7    {'C': 100, 'gamma': 'auto', 'kernel': 'sigmoid'}           0.981569   \n",
       "8   {'C': 1000, 'gamma': 'scale', 'kernel': 'linear'}           0.981569   \n",
       "9     {'C': 1000, 'gamma': 'scale', 'kernel': 'poly'}           0.963284   \n",
       "10     {'C': 1000, 'gamma': 'scale', 'kernel': 'rbf'}           0.963284   \n",
       "11  {'C': 1000, 'gamma': 'scale', 'kernel': 'sigmo...           0.981569   \n",
       "12   {'C': 1000, 'gamma': 'auto', 'kernel': 'linear'}           0.981569   \n",
       "13     {'C': 1000, 'gamma': 'auto', 'kernel': 'poly'}           0.963284   \n",
       "14      {'C': 1000, 'gamma': 'auto', 'kernel': 'rbf'}           0.963284   \n",
       "15  {'C': 1000, 'gamma': 'auto', 'kernel': 'sigmoid'}           0.981569   \n",
       "\n",
       "    split1_test_score  split2_test_score  split3_test_score  \\\n",
       "0            0.962636           0.962573           0.981031   \n",
       "1            0.981014           1.000000           1.000000   \n",
       "2            0.981014           1.000000           0.981031   \n",
       "3            0.943699           0.944023           0.981031   \n",
       "4            0.962636           0.962573           0.981031   \n",
       "5            0.981014           1.000000           1.000000   \n",
       "6            0.981014           1.000000           0.981031   \n",
       "7            0.943699           0.944023           0.981031   \n",
       "8            0.962636           0.962573           0.981031   \n",
       "9            0.981014           0.981217           1.000000   \n",
       "10           0.981014           1.000000           0.981031   \n",
       "11           0.943699           0.962573           0.981031   \n",
       "12           0.962636           0.962573           0.981031   \n",
       "13           0.981014           0.981217           1.000000   \n",
       "14           0.981014           1.000000           0.981031   \n",
       "15           0.943699           0.962573           0.981031   \n",
       "\n",
       "    split4_test_score  mean_test_score  std_test_score  rank_test_score  \n",
       "0            0.981217         0.973805        0.009147                9  \n",
       "1            0.981217         0.985103        0.013797                1  \n",
       "2            1.000000         0.985066        0.013807                3  \n",
       "3            1.000000         0.970065        0.022459               13  \n",
       "4            0.981217         0.973805        0.009147                9  \n",
       "5            0.981217         0.985103        0.013797                1  \n",
       "6            1.000000         0.985066        0.013807                3  \n",
       "7            1.000000         0.970065        0.022459               13  \n",
       "8            0.981217         0.973805        0.009147                9  \n",
       "9            0.981217         0.981346        0.011613                7  \n",
       "10           1.000000         0.985066        0.013807                3  \n",
       "11           0.981217         0.970018        0.015021               15  \n",
       "12           0.981217         0.973805        0.009147                9  \n",
       "13           0.981217         0.981346        0.011613                7  \n",
       "14           1.000000         0.985066        0.013807                3  \n",
       "15           0.981217         0.970018        0.015021               15  "
      ]
     },
     "execution_count": 11,
     "metadata": {},
     "output_type": "execute_result"
    }
   ],
   "source": [
    "re=grid.cv_results_\n",
    "table=pd.DataFrame.from_dict(re)\n",
    "table"
   ]
  },
  {
   "cell_type": "code",
   "execution_count": 12,
   "metadata": {},
   "outputs": [
    {
     "name": "stdout",
     "output_type": "stream",
     "text": [
      "Best parameter {'C': 100, 'gamma': 'scale', 'kernel': 'poly'} \n",
      "Best Estimator SVC(C=100, kernel='poly', probability=True) \n",
      "Best Score 0.9851028983581989 \n"
     ]
    }
   ],
   "source": [
    "bestParams=grid.best_params_\n",
    "bestEstimator=grid.best_estimator_\n",
    "bestScore=grid.best_score_\n",
    "print(\"Best parameter {} \".format(bestParams))\n",
    "print(\"Best Estimator {} \".format(bestEstimator))\n",
    "print(\"Best Score {} \".format(bestScore))"
   ]
  },
  {
   "cell_type": "code",
   "execution_count": 13,
   "metadata": {},
   "outputs": [],
   "source": [
    "gridPred=grid.predict(x_test)"
   ]
  },
  {
   "cell_type": "code",
   "execution_count": 14,
   "metadata": {},
   "outputs": [
    {
     "name": "stdout",
     "output_type": "stream",
     "text": [
      "[[51  0]\n",
      " [ 2 80]]\n"
     ]
    }
   ],
   "source": [
    "from sklearn.metrics import confusion_matrix\n",
    "cm=confusion_matrix(y_test,gridPred)\n",
    "print(cm)"
   ]
  },
  {
   "cell_type": "code",
   "execution_count": 15,
   "metadata": {},
   "outputs": [
    {
     "name": "stdout",
     "output_type": "stream",
     "text": [
      "              precision    recall  f1-score   support\n",
      "\n",
      "           0       0.96      1.00      0.98        51\n",
      "           1       1.00      0.98      0.99        82\n",
      "\n",
      "    accuracy                           0.98       133\n",
      "   macro avg       0.98      0.99      0.98       133\n",
      "weighted avg       0.99      0.98      0.99       133\n",
      "\n"
     ]
    }
   ],
   "source": [
    "from sklearn.metrics import classification_report\n",
    "clf_report=classification_report(y_test,gridPred)\n",
    "print(clf_report)"
   ]
  },
  {
   "cell_type": "code",
   "execution_count": 16,
   "metadata": {},
   "outputs": [
    {
     "data": {
      "text/plain": [
       "1.0"
      ]
     },
     "execution_count": 16,
     "metadata": {},
     "output_type": "execute_result"
    }
   ],
   "source": [
    "from sklearn.metrics import roc_auc_score\n",
    "roc_auc_score(y_test,grid.predict_proba(x_test)[:,1])"
   ]
  },
  {
   "cell_type": "code",
   "execution_count": 17,
   "metadata": {},
   "outputs": [
    {
     "name": "stdout",
     "output_type": "stream",
     "text": [
      "0.9850141736106648\n"
     ]
    }
   ],
   "source": [
    "from sklearn.metrics import f1_score\n",
    "fscore=f1_score(y_test,gridPred,average='weighted')\n",
    "print(fscore)"
   ]
  },
  {
   "cell_type": "code",
   "execution_count": 18,
   "metadata": {},
   "outputs": [
    {
     "data": {
      "text/plain": [
       "Index(['age', 'bp', 'al', 'su', 'bgr', 'bu', 'sc', 'sod', 'pot', 'hrmo', 'pcv',\n",
       "       'wc', 'rc', 'sg_b', 'sg_c', 'sg_d', 'sg_e', 'rbc_normal', 'pc_normal',\n",
       "       'pcc_present', 'ba_present', 'htn_yes', 'dm_yes', 'cad_yes',\n",
       "       'appet_yes', 'pe_yes', 'ane_yes'],\n",
       "      dtype='object')"
      ]
     },
     "execution_count": 18,
     "metadata": {},
     "output_type": "execute_result"
    }
   ],
   "source": [
    "indep.columns"
   ]
  },
  {
   "cell_type": "code",
   "execution_count": 19,
   "metadata": {},
   "outputs": [
    {
     "name": "stdout",
     "output_type": "stream",
     "text": [
      "AGE:21\n",
      "BP:55.34\n",
      "AL:2.3\n",
      "SU:2\n",
      "BGR:89.3\n",
      "BU:34.3\n",
      "SC:2\n",
      "SOD120.4\n",
      "POT:2.3\n",
      "HRMO:7.4\n",
      "PCV:23\n",
      "WC:1200\n",
      "RC:2.5\n",
      "SG B:0\n",
      "SG C:1\n",
      "SG D:0\n",
      "SG E:0\n",
      "RBC NORMAL:1\n",
      "PC NORMAL:0\n",
      "PC PRESENT:1\n",
      "BA PRESENT:1\n",
      "HTN YES:1\n",
      "DM YES:0\n",
      "CAD YES:0\n",
      "APPET YES:1\n",
      "PE YES1\n",
      "ANE YES:0\n"
     ]
    }
   ],
   "source": [
    "age=int(input(\"AGE:\"))\n",
    "bp=float(input(\"BP:\"))\n",
    "al=float(input(\"AL:\"))\n",
    "su=int(input(\"SU:\"))\n",
    "bgr=float(input(\"BGR:\"))\n",
    "bu=float(input(\"BU:\"))\n",
    "sc=int(input(\"SC:\"))\n",
    "sod=float(input(\"SOD\"))\n",
    "pot=float(input(\"POT:\"))\n",
    "hrmo=float(input(\"HRMO:\"))\n",
    "pcv=int(input(\"PCV:\"))\n",
    "wc=int(input(\"WC:\"))\n",
    "rc=float(input(\"RC:\"))\n",
    "sg_b=int(input(\"SG B:\"))\n",
    "sg_c=int(input(\"SG C:\"))\n",
    "sg_d=int(input(\"SG D:\"))\n",
    "sg_e=int(input(\"SG E:\"))\n",
    "rbc_normal=int(input(\"RBC NORMAL:\"))\n",
    "pc_normal=int(input(\"PC NORMAL:\"))\n",
    "pcc_present=int(input(\"PC PRESENT:\"))\n",
    "ba_present=int(input(\"BA PRESENT:\"))\n",
    "htn_yes=int(input(\"HTN YES:\"))\n",
    "dm_yes=int(input(\"DM YES:\"))\n",
    "cad_yes=int(input(\"CAD YES:\"))\n",
    "appet_yes=int(input(\"APPET YES:\"))\n",
    "pe_yes=int(input(\"PE YES\"))\n",
    "ane_yes=int(input(\"ANE YES:\"))"
   ]
  },
  {
   "cell_type": "code",
   "execution_count": 20,
   "metadata": {},
   "outputs": [],
   "source": [
    "Prediction=grid.predict([[age,bp,al,su, bgr, bu, sc, sod, pot, hrmo, pcv,\n",
    "       wc, rc, sg_b, sg_c, sg_d, sg_e, rbc_normal, pc_normal,\n",
    "       pcc_present, ba_present, htn_yes, dm_yes, cad_yes,\n",
    "       appet_yes, pe_yes, ane_yes]])"
   ]
  },
  {
   "cell_type": "code",
   "execution_count": 21,
   "metadata": {},
   "outputs": [
    {
     "name": "stdout",
     "output_type": "stream",
     "text": [
      " Prediction Value : [0] \n"
     ]
    }
   ],
   "source": [
    "print(\" Prediction Value : {} \".format(Prediction))"
   ]
  },
  {
   "cell_type": "code",
   "execution_count": null,
   "metadata": {},
   "outputs": [],
   "source": []
  }
 ],
 "metadata": {
  "kernelspec": {
   "display_name": "Python 3",
   "language": "python",
   "name": "python3"
  },
  "language_info": {
   "codemirror_mode": {
    "name": "ipython",
    "version": 3
   },
   "file_extension": ".py",
   "mimetype": "text/x-python",
   "name": "python",
   "nbconvert_exporter": "python",
   "pygments_lexer": "ipython3",
   "version": "3.7.4"
  }
 },
 "nbformat": 4,
 "nbformat_minor": 2
}
