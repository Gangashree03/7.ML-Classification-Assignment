{
 "cells": [
  {
   "cell_type": "code",
   "execution_count": 1,
   "metadata": {},
   "outputs": [],
   "source": [
    "import pandas as pd"
   ]
  },
  {
   "cell_type": "code",
   "execution_count": 2,
   "metadata": {},
   "outputs": [],
   "source": [
    "dataset=pd.read_csv(\"CKD.csv\")"
   ]
  },
  {
   "cell_type": "code",
   "execution_count": 3,
   "metadata": {},
   "outputs": [],
   "source": [
    "dataset=pd.get_dummies(dataset,drop_first=True)"
   ]
  },
  {
   "cell_type": "code",
   "execution_count": 4,
   "metadata": {},
   "outputs": [
    {
     "data": {
      "text/plain": [
       "Index(['age', 'bp', 'al', 'su', 'bgr', 'bu', 'sc', 'sod', 'pot', 'hrmo', 'pcv',\n",
       "       'wc', 'rc', 'sg_b', 'sg_c', 'sg_d', 'sg_e', 'rbc_normal', 'pc_normal',\n",
       "       'pcc_present', 'ba_present', 'htn_yes', 'dm_yes', 'cad_yes',\n",
       "       'appet_yes', 'pe_yes', 'ane_yes', 'classification_yes'],\n",
       "      dtype='object')"
      ]
     },
     "execution_count": 4,
     "metadata": {},
     "output_type": "execute_result"
    }
   ],
   "source": [
    "dataset.columns"
   ]
  },
  {
   "cell_type": "code",
   "execution_count": 5,
   "metadata": {},
   "outputs": [
    {
     "data": {
      "text/plain": [
       "1    249\n",
       "0    150\n",
       "Name: classification_yes, dtype: int64"
      ]
     },
     "execution_count": 5,
     "metadata": {},
     "output_type": "execute_result"
    }
   ],
   "source": [
    "dataset[\"classification_yes\"].value_counts()"
   ]
  },
  {
   "cell_type": "code",
   "execution_count": 6,
   "metadata": {},
   "outputs": [],
   "source": [
    "indep=dataset[['age', 'bp', 'al', 'su', 'bgr', 'bu', 'sc', 'sod', 'pot', 'hrmo', 'pcv',\n",
    "       'wc', 'rc', 'sg_b', 'sg_c', 'sg_d', 'sg_e', 'rbc_normal', 'pc_normal',\n",
    "       'pcc_present', 'ba_present', 'htn_yes', 'dm_yes', 'cad_yes',\n",
    "       'appet_yes', 'pe_yes', 'ane_yes'  ]]\n",
    "dep=dataset[['classification_yes' ]]"
   ]
  },
  {
   "cell_type": "code",
   "execution_count": 7,
   "metadata": {},
   "outputs": [],
   "source": [
    "from sklearn.model_selection import train_test_split\n",
    "X_train, X_test, y_train, y_test = train_test_split(indep, dep, test_size = 1/3, random_state = 0)"
   ]
  },
  {
   "cell_type": "code",
   "execution_count": 8,
   "metadata": {},
   "outputs": [],
   "source": [
    "from sklearn.preprocessing import StandardScaler\n",
    "sc= StandardScaler()\n",
    "x_train=sc.fit_transform(X_train)\n",
    "x_test=sc.transform(X_test)"
   ]
  },
  {
   "cell_type": "code",
   "execution_count": 9,
   "metadata": {},
   "outputs": [
    {
     "name": "stdout",
     "output_type": "stream",
     "text": [
      "Fitting 5 folds for each of 12 candidates, totalling 60 fits\n"
     ]
    },
    {
     "name": "stderr",
     "output_type": "stream",
     "text": [
      "C:\\Users\\ELCOT\\Anaconda3\\lib\\site-packages\\sklearn\\model_selection\\_validation.py:372: FitFailedWarning: \n",
      "20 fits failed out of a total of 60.\n",
      "The score on these train-test partitions for these parameters will be set to nan.\n",
      "If these failures are not expected, you can try to debug them by setting error_score='raise'.\n",
      "\n",
      "Below are more details about the failures:\n",
      "--------------------------------------------------------------------------------\n",
      "20 fits failed with the following error:\n",
      "Traceback (most recent call last):\n",
      "  File \"C:\\Users\\ELCOT\\Anaconda3\\lib\\site-packages\\sklearn\\model_selection\\_validation.py\", line 681, in _fit_and_score\n",
      "    estimator.fit(X_train, y_train, **fit_params)\n",
      "  File \"C:\\Users\\ELCOT\\Anaconda3\\lib\\site-packages\\sklearn\\tree\\_classes.py\", line 942, in fit\n",
      "    X_idx_sorted=X_idx_sorted,\n",
      "  File \"C:\\Users\\ELCOT\\Anaconda3\\lib\\site-packages\\sklearn\\tree\\_classes.py\", line 352, in fit\n",
      "    criterion = CRITERIA_CLF[self.criterion](\n",
      "KeyError: 'log_loss'\n",
      "\n",
      "  warnings.warn(some_fits_failed_message, FitFailedWarning)\n",
      "C:\\Users\\ELCOT\\Anaconda3\\lib\\site-packages\\sklearn\\model_selection\\_search.py:972: UserWarning: One or more of the test scores are non-finite: [0.91326827 0.96243419 0.95776743 0.92540418 0.95106686 0.9475824\n",
      " 0.95836522 0.94785037        nan        nan        nan        nan]\n",
      "  category=UserWarning,\n"
     ]
    },
    {
     "data": {
      "text/plain": [
       "GridSearchCV(estimator=DecisionTreeClassifier(), n_jobs=-1,\n",
       "             param_grid={'criterion': ['gini', 'entropy', 'log_loss'],\n",
       "                         'max_features': ['sqrt', 'log2'],\n",
       "                         'splitter': ['best', 'random']},\n",
       "             scoring='f1_weighted', verbose=3)"
      ]
     },
     "execution_count": 9,
     "metadata": {},
     "output_type": "execute_result"
    }
   ],
   "source": [
    "from sklearn.model_selection import GridSearchCV\n",
    "from sklearn.tree import DecisionTreeClassifier\n",
    "param_grid = {'criterion':['gini', 'entropy', 'log_loss'],'max_features':['sqrt','log2'],'splitter':['best','random']}\n",
    "grid = GridSearchCV( DecisionTreeClassifier(), param_grid, refit = True, verbose = 3,n_jobs=-1,scoring='f1_weighted')\n",
    "grid.fit(x_train,y_train)"
   ]
  },
  {
   "cell_type": "code",
   "execution_count": 10,
   "metadata": {},
   "outputs": [
    {
     "name": "stderr",
     "output_type": "stream",
     "text": [
      "C:\\Users\\ELCOT\\Anaconda3\\lib\\site-packages\\sklearn\\base.py:435: UserWarning: X has feature names, but DecisionTreeClassifier was fitted without feature names\n",
      "  f\"X has feature names, but {self.__class__.__name__} was fitted without\"\n"
     ]
    }
   ],
   "source": [
    "re=grid.cv_results_\n",
    "grid_predictions = grid.predict(X_test)\n",
    "from sklearn.metrics import confusion_matrix\n",
    "cm = confusion_matrix(y_test, grid_predictions)"
   ]
  },
  {
   "cell_type": "code",
   "execution_count": 11,
   "metadata": {},
   "outputs": [
    {
     "name": "stderr",
     "output_type": "stream",
     "text": [
      "C:\\Users\\ELCOT\\Anaconda3\\lib\\site-packages\\sklearn\\metrics\\_classification.py:1308: UndefinedMetricWarning: Precision and F-score are ill-defined and being set to 0.0 in labels with no predicted samples. Use `zero_division` parameter to control this behavior.\n",
      "  _warn_prf(average, modifier, msg_start, len(result))\n",
      "C:\\Users\\ELCOT\\Anaconda3\\lib\\site-packages\\sklearn\\metrics\\_classification.py:1308: UndefinedMetricWarning: Precision and F-score are ill-defined and being set to 0.0 in labels with no predicted samples. Use `zero_division` parameter to control this behavior.\n",
      "  _warn_prf(average, modifier, msg_start, len(result))\n",
      "C:\\Users\\ELCOT\\Anaconda3\\lib\\site-packages\\sklearn\\metrics\\_classification.py:1308: UndefinedMetricWarning: Precision and F-score are ill-defined and being set to 0.0 in labels with no predicted samples. Use `zero_division` parameter to control this behavior.\n",
      "  _warn_prf(average, modifier, msg_start, len(result))\n"
     ]
    }
   ],
   "source": [
    "from sklearn.metrics import classification_report\n",
    "clf_report = classification_report(y_test, grid_predictions )"
   ]
  },
  {
   "cell_type": "code",
   "execution_count": 12,
   "metadata": {},
   "outputs": [
    {
     "name": "stdout",
     "output_type": "stream",
     "text": [
      "The f1 macro value for parameter {'criterion': 'gini', 'max_features': 'sqrt', 'splitter': 'random'}: 0.47029200909249863\n"
     ]
    }
   ],
   "source": [
    "from sklearn.metrics import f1_score\n",
    "f1_macro=f1_score(y_test, grid_predictions,average='weighted')\n",
    "print(\"The f1 macro value for parameter {}:\".format(grid.best_params_),f1_macro)"
   ]
  },
  {
   "cell_type": "code",
   "execution_count": 13,
   "metadata": {},
   "outputs": [
    {
     "name": "stdout",
     "output_type": "stream",
     "text": [
      "[[ 0 51]\n",
      " [ 0 82]]\n"
     ]
    }
   ],
   "source": [
    "print(cm)"
   ]
  },
  {
   "cell_type": "code",
   "execution_count": 14,
   "metadata": {},
   "outputs": [
    {
     "name": "stdout",
     "output_type": "stream",
     "text": [
      "              precision    recall  f1-score   support\n",
      "\n",
      "           0       0.00      0.00      0.00        51\n",
      "           1       0.62      1.00      0.76        82\n",
      "\n",
      "    accuracy                           0.62       133\n",
      "   macro avg       0.31      0.50      0.38       133\n",
      "weighted avg       0.38      0.62      0.47       133\n",
      "\n"
     ]
    }
   ],
   "source": [
    "print(clf_report)"
   ]
  },
  {
   "cell_type": "code",
   "execution_count": 15,
   "metadata": {},
   "outputs": [
    {
     "name": "stderr",
     "output_type": "stream",
     "text": [
      "C:\\Users\\ELCOT\\Anaconda3\\lib\\site-packages\\sklearn\\base.py:435: UserWarning: X has feature names, but DecisionTreeClassifier was fitted without feature names\n",
      "  f\"X has feature names, but {self.__class__.__name__} was fitted without\"\n"
     ]
    },
    {
     "data": {
      "text/plain": [
       "0.5"
      ]
     },
     "execution_count": 15,
     "metadata": {},
     "output_type": "execute_result"
    }
   ],
   "source": [
    "from sklearn.metrics import roc_auc_score\n",
    "roc_auc_score(y_test,grid.predict_proba(X_test)[:,1])"
   ]
  },
  {
   "cell_type": "code",
   "execution_count": 16,
   "metadata": {},
   "outputs": [
    {
     "data": {
      "text/html": [
       "<div>\n",
       "<style scoped>\n",
       "    .dataframe tbody tr th:only-of-type {\n",
       "        vertical-align: middle;\n",
       "    }\n",
       "\n",
       "    .dataframe tbody tr th {\n",
       "        vertical-align: top;\n",
       "    }\n",
       "\n",
       "    .dataframe thead th {\n",
       "        text-align: right;\n",
       "    }\n",
       "</style>\n",
       "<table border=\"1\" class=\"dataframe\">\n",
       "  <thead>\n",
       "    <tr style=\"text-align: right;\">\n",
       "      <th></th>\n",
       "      <th>mean_fit_time</th>\n",
       "      <th>std_fit_time</th>\n",
       "      <th>mean_score_time</th>\n",
       "      <th>std_score_time</th>\n",
       "      <th>param_criterion</th>\n",
       "      <th>param_max_features</th>\n",
       "      <th>param_splitter</th>\n",
       "      <th>params</th>\n",
       "      <th>split0_test_score</th>\n",
       "      <th>split1_test_score</th>\n",
       "      <th>split2_test_score</th>\n",
       "      <th>split3_test_score</th>\n",
       "      <th>split4_test_score</th>\n",
       "      <th>mean_test_score</th>\n",
       "      <th>std_test_score</th>\n",
       "      <th>rank_test_score</th>\n",
       "    </tr>\n",
       "  </thead>\n",
       "  <tbody>\n",
       "    <tr>\n",
       "      <th>0</th>\n",
       "      <td>0.004325</td>\n",
       "      <td>0.003671</td>\n",
       "      <td>0.002001</td>\n",
       "      <td>0.001675</td>\n",
       "      <td>gini</td>\n",
       "      <td>sqrt</td>\n",
       "      <td>best</td>\n",
       "      <td>{'criterion': 'gini', 'max_features': 'sqrt', ...</td>\n",
       "      <td>0.944707</td>\n",
       "      <td>0.903610</td>\n",
       "      <td>0.888286</td>\n",
       "      <td>0.923652</td>\n",
       "      <td>0.906085</td>\n",
       "      <td>0.913268</td>\n",
       "      <td>0.019314</td>\n",
       "      <td>8</td>\n",
       "    </tr>\n",
       "    <tr>\n",
       "      <th>1</th>\n",
       "      <td>0.010620</td>\n",
       "      <td>0.006448</td>\n",
       "      <td>0.002200</td>\n",
       "      <td>0.001167</td>\n",
       "      <td>gini</td>\n",
       "      <td>sqrt</td>\n",
       "      <td>random</td>\n",
       "      <td>{'criterion': 'gini', 'max_features': 'sqrt', ...</td>\n",
       "      <td>0.963284</td>\n",
       "      <td>0.961755</td>\n",
       "      <td>0.981217</td>\n",
       "      <td>0.943651</td>\n",
       "      <td>0.962264</td>\n",
       "      <td>0.962434</td>\n",
       "      <td>0.011890</td>\n",
       "      <td>1</td>\n",
       "    </tr>\n",
       "    <tr>\n",
       "      <th>2</th>\n",
       "      <td>0.004124</td>\n",
       "      <td>0.005468</td>\n",
       "      <td>0.004124</td>\n",
       "      <td>0.005866</td>\n",
       "      <td>gini</td>\n",
       "      <td>log2</td>\n",
       "      <td>best</td>\n",
       "      <td>{'criterion': 'gini', 'max_features': 'log2', ...</td>\n",
       "      <td>1.000000</td>\n",
       "      <td>0.883278</td>\n",
       "      <td>0.962264</td>\n",
       "      <td>0.981031</td>\n",
       "      <td>0.962264</td>\n",
       "      <td>0.957767</td>\n",
       "      <td>0.039784</td>\n",
       "      <td>3</td>\n",
       "    </tr>\n",
       "    <tr>\n",
       "      <th>3</th>\n",
       "      <td>0.000000</td>\n",
       "      <td>0.000000</td>\n",
       "      <td>0.003126</td>\n",
       "      <td>0.006252</td>\n",
       "      <td>gini</td>\n",
       "      <td>log2</td>\n",
       "      <td>random</td>\n",
       "      <td>{'criterion': 'gini', 'max_features': 'log2', ...</td>\n",
       "      <td>0.926567</td>\n",
       "      <td>0.943699</td>\n",
       "      <td>0.888515</td>\n",
       "      <td>0.943093</td>\n",
       "      <td>0.925146</td>\n",
       "      <td>0.925404</td>\n",
       "      <td>0.020049</td>\n",
       "      <td>7</td>\n",
       "    </tr>\n",
       "    <tr>\n",
       "      <th>4</th>\n",
       "      <td>0.003000</td>\n",
       "      <td>0.002449</td>\n",
       "      <td>0.008423</td>\n",
       "      <td>0.005995</td>\n",
       "      <td>entropy</td>\n",
       "      <td>sqrt</td>\n",
       "      <td>best</td>\n",
       "      <td>{'criterion': 'entropy', 'max_features': 'sqrt...</td>\n",
       "      <td>0.962963</td>\n",
       "      <td>0.905069</td>\n",
       "      <td>0.906085</td>\n",
       "      <td>0.981217</td>\n",
       "      <td>1.000000</td>\n",
       "      <td>0.951067</td>\n",
       "      <td>0.038946</td>\n",
       "      <td>4</td>\n",
       "    </tr>\n",
       "    <tr>\n",
       "      <th>5</th>\n",
       "      <td>0.004727</td>\n",
       "      <td>0.006271</td>\n",
       "      <td>0.000400</td>\n",
       "      <td>0.000799</td>\n",
       "      <td>entropy</td>\n",
       "      <td>sqrt</td>\n",
       "      <td>random</td>\n",
       "      <td>{'criterion': 'entropy', 'max_features': 'sqrt...</td>\n",
       "      <td>1.000000</td>\n",
       "      <td>0.925272</td>\n",
       "      <td>0.925524</td>\n",
       "      <td>0.981031</td>\n",
       "      <td>0.906085</td>\n",
       "      <td>0.947582</td>\n",
       "      <td>0.036257</td>\n",
       "      <td>6</td>\n",
       "    </tr>\n",
       "    <tr>\n",
       "      <th>6</th>\n",
       "      <td>0.003951</td>\n",
       "      <td>0.006053</td>\n",
       "      <td>0.000000</td>\n",
       "      <td>0.000000</td>\n",
       "      <td>entropy</td>\n",
       "      <td>log2</td>\n",
       "      <td>best</td>\n",
       "      <td>{'criterion': 'entropy', 'max_features': 'log2...</td>\n",
       "      <td>0.962963</td>\n",
       "      <td>0.942166</td>\n",
       "      <td>0.962573</td>\n",
       "      <td>0.943093</td>\n",
       "      <td>0.981031</td>\n",
       "      <td>0.958365</td>\n",
       "      <td>0.014479</td>\n",
       "      <td>2</td>\n",
       "    </tr>\n",
       "    <tr>\n",
       "      <th>7</th>\n",
       "      <td>0.008632</td>\n",
       "      <td>0.005209</td>\n",
       "      <td>0.001600</td>\n",
       "      <td>0.001357</td>\n",
       "      <td>entropy</td>\n",
       "      <td>log2</td>\n",
       "      <td>random</td>\n",
       "      <td>{'criterion': 'entropy', 'max_features': 'log2...</td>\n",
       "      <td>0.945100</td>\n",
       "      <td>0.962264</td>\n",
       "      <td>0.925524</td>\n",
       "      <td>0.925146</td>\n",
       "      <td>0.981217</td>\n",
       "      <td>0.947850</td>\n",
       "      <td>0.021645</td>\n",
       "      <td>5</td>\n",
       "    </tr>\n",
       "    <tr>\n",
       "      <th>8</th>\n",
       "      <td>0.004439</td>\n",
       "      <td>0.003007</td>\n",
       "      <td>0.000000</td>\n",
       "      <td>0.000000</td>\n",
       "      <td>log_loss</td>\n",
       "      <td>sqrt</td>\n",
       "      <td>best</td>\n",
       "      <td>{'criterion': 'log_loss', 'max_features': 'sqr...</td>\n",
       "      <td>NaN</td>\n",
       "      <td>NaN</td>\n",
       "      <td>NaN</td>\n",
       "      <td>NaN</td>\n",
       "      <td>NaN</td>\n",
       "      <td>NaN</td>\n",
       "      <td>NaN</td>\n",
       "      <td>9</td>\n",
       "    </tr>\n",
       "    <tr>\n",
       "      <th>9</th>\n",
       "      <td>0.004745</td>\n",
       "      <td>0.004991</td>\n",
       "      <td>0.000000</td>\n",
       "      <td>0.000000</td>\n",
       "      <td>log_loss</td>\n",
       "      <td>sqrt</td>\n",
       "      <td>random</td>\n",
       "      <td>{'criterion': 'log_loss', 'max_features': 'sqr...</td>\n",
       "      <td>NaN</td>\n",
       "      <td>NaN</td>\n",
       "      <td>NaN</td>\n",
       "      <td>NaN</td>\n",
       "      <td>NaN</td>\n",
       "      <td>NaN</td>\n",
       "      <td>NaN</td>\n",
       "      <td>10</td>\n",
       "    </tr>\n",
       "    <tr>\n",
       "      <th>10</th>\n",
       "      <td>0.004126</td>\n",
       "      <td>0.006069</td>\n",
       "      <td>0.000000</td>\n",
       "      <td>0.000000</td>\n",
       "      <td>log_loss</td>\n",
       "      <td>log2</td>\n",
       "      <td>best</td>\n",
       "      <td>{'criterion': 'log_loss', 'max_features': 'log...</td>\n",
       "      <td>NaN</td>\n",
       "      <td>NaN</td>\n",
       "      <td>NaN</td>\n",
       "      <td>NaN</td>\n",
       "      <td>NaN</td>\n",
       "      <td>NaN</td>\n",
       "      <td>NaN</td>\n",
       "      <td>11</td>\n",
       "    </tr>\n",
       "    <tr>\n",
       "      <th>11</th>\n",
       "      <td>0.000800</td>\n",
       "      <td>0.001600</td>\n",
       "      <td>0.000000</td>\n",
       "      <td>0.000000</td>\n",
       "      <td>log_loss</td>\n",
       "      <td>log2</td>\n",
       "      <td>random</td>\n",
       "      <td>{'criterion': 'log_loss', 'max_features': 'log...</td>\n",
       "      <td>NaN</td>\n",
       "      <td>NaN</td>\n",
       "      <td>NaN</td>\n",
       "      <td>NaN</td>\n",
       "      <td>NaN</td>\n",
       "      <td>NaN</td>\n",
       "      <td>NaN</td>\n",
       "      <td>12</td>\n",
       "    </tr>\n",
       "  </tbody>\n",
       "</table>\n",
       "</div>"
      ],
      "text/plain": [
       "    mean_fit_time  std_fit_time  mean_score_time  std_score_time  \\\n",
       "0        0.004325      0.003671         0.002001        0.001675   \n",
       "1        0.010620      0.006448         0.002200        0.001167   \n",
       "2        0.004124      0.005468         0.004124        0.005866   \n",
       "3        0.000000      0.000000         0.003126        0.006252   \n",
       "4        0.003000      0.002449         0.008423        0.005995   \n",
       "5        0.004727      0.006271         0.000400        0.000799   \n",
       "6        0.003951      0.006053         0.000000        0.000000   \n",
       "7        0.008632      0.005209         0.001600        0.001357   \n",
       "8        0.004439      0.003007         0.000000        0.000000   \n",
       "9        0.004745      0.004991         0.000000        0.000000   \n",
       "10       0.004126      0.006069         0.000000        0.000000   \n",
       "11       0.000800      0.001600         0.000000        0.000000   \n",
       "\n",
       "   param_criterion param_max_features param_splitter  \\\n",
       "0             gini               sqrt           best   \n",
       "1             gini               sqrt         random   \n",
       "2             gini               log2           best   \n",
       "3             gini               log2         random   \n",
       "4          entropy               sqrt           best   \n",
       "5          entropy               sqrt         random   \n",
       "6          entropy               log2           best   \n",
       "7          entropy               log2         random   \n",
       "8         log_loss               sqrt           best   \n",
       "9         log_loss               sqrt         random   \n",
       "10        log_loss               log2           best   \n",
       "11        log_loss               log2         random   \n",
       "\n",
       "                                               params  split0_test_score  \\\n",
       "0   {'criterion': 'gini', 'max_features': 'sqrt', ...           0.944707   \n",
       "1   {'criterion': 'gini', 'max_features': 'sqrt', ...           0.963284   \n",
       "2   {'criterion': 'gini', 'max_features': 'log2', ...           1.000000   \n",
       "3   {'criterion': 'gini', 'max_features': 'log2', ...           0.926567   \n",
       "4   {'criterion': 'entropy', 'max_features': 'sqrt...           0.962963   \n",
       "5   {'criterion': 'entropy', 'max_features': 'sqrt...           1.000000   \n",
       "6   {'criterion': 'entropy', 'max_features': 'log2...           0.962963   \n",
       "7   {'criterion': 'entropy', 'max_features': 'log2...           0.945100   \n",
       "8   {'criterion': 'log_loss', 'max_features': 'sqr...                NaN   \n",
       "9   {'criterion': 'log_loss', 'max_features': 'sqr...                NaN   \n",
       "10  {'criterion': 'log_loss', 'max_features': 'log...                NaN   \n",
       "11  {'criterion': 'log_loss', 'max_features': 'log...                NaN   \n",
       "\n",
       "    split1_test_score  split2_test_score  split3_test_score  \\\n",
       "0            0.903610           0.888286           0.923652   \n",
       "1            0.961755           0.981217           0.943651   \n",
       "2            0.883278           0.962264           0.981031   \n",
       "3            0.943699           0.888515           0.943093   \n",
       "4            0.905069           0.906085           0.981217   \n",
       "5            0.925272           0.925524           0.981031   \n",
       "6            0.942166           0.962573           0.943093   \n",
       "7            0.962264           0.925524           0.925146   \n",
       "8                 NaN                NaN                NaN   \n",
       "9                 NaN                NaN                NaN   \n",
       "10                NaN                NaN                NaN   \n",
       "11                NaN                NaN                NaN   \n",
       "\n",
       "    split4_test_score  mean_test_score  std_test_score  rank_test_score  \n",
       "0            0.906085         0.913268        0.019314                8  \n",
       "1            0.962264         0.962434        0.011890                1  \n",
       "2            0.962264         0.957767        0.039784                3  \n",
       "3            0.925146         0.925404        0.020049                7  \n",
       "4            1.000000         0.951067        0.038946                4  \n",
       "5            0.906085         0.947582        0.036257                6  \n",
       "6            0.981031         0.958365        0.014479                2  \n",
       "7            0.981217         0.947850        0.021645                5  \n",
       "8                 NaN              NaN             NaN                9  \n",
       "9                 NaN              NaN             NaN               10  \n",
       "10                NaN              NaN             NaN               11  \n",
       "11                NaN              NaN             NaN               12  "
      ]
     },
     "execution_count": 16,
     "metadata": {},
     "output_type": "execute_result"
    }
   ],
   "source": [
    "table=pd.DataFrame.from_dict(re)\n",
    "table"
   ]
  },
  {
   "cell_type": "code",
   "execution_count": null,
   "metadata": {},
   "outputs": [],
   "source": []
  }
 ],
 "metadata": {
  "kernelspec": {
   "display_name": "Python 3",
   "language": "python",
   "name": "python3"
  },
  "language_info": {
   "codemirror_mode": {
    "name": "ipython",
    "version": 3
   },
   "file_extension": ".py",
   "mimetype": "text/x-python",
   "name": "python",
   "nbconvert_exporter": "python",
   "pygments_lexer": "ipython3",
   "version": "3.7.4"
  }
 },
 "nbformat": 4,
 "nbformat_minor": 2
}
