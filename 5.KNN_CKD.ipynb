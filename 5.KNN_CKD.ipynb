{
 "cells": [
  {
   "cell_type": "code",
   "execution_count": 1,
   "metadata": {},
   "outputs": [],
   "source": [
    "import pandas as pd"
   ]
  },
  {
   "cell_type": "code",
   "execution_count": 2,
   "metadata": {},
   "outputs": [],
   "source": [
    "dataset=pd.read_csv(\"CKD.csv\")"
   ]
  },
  {
   "cell_type": "code",
   "execution_count": 3,
   "metadata": {},
   "outputs": [],
   "source": [
    "dataset=pd.get_dummies(dataset,drop_first=True)"
   ]
  },
  {
   "cell_type": "code",
   "execution_count": 4,
   "metadata": {},
   "outputs": [
    {
     "data": {
      "text/plain": [
       "Index(['age', 'bp', 'al', 'su', 'bgr', 'bu', 'sc', 'sod', 'pot', 'hrmo', 'pcv',\n",
       "       'wc', 'rc', 'sg_b', 'sg_c', 'sg_d', 'sg_e', 'rbc_normal', 'pc_normal',\n",
       "       'pcc_present', 'ba_present', 'htn_yes', 'dm_yes', 'cad_yes',\n",
       "       'appet_yes', 'pe_yes', 'ane_yes', 'classification_yes'],\n",
       "      dtype='object')"
      ]
     },
     "execution_count": 4,
     "metadata": {},
     "output_type": "execute_result"
    }
   ],
   "source": [
    "dataset.columns"
   ]
  },
  {
   "cell_type": "code",
   "execution_count": 5,
   "metadata": {},
   "outputs": [
    {
     "data": {
      "text/plain": [
       "1    249\n",
       "0    150\n",
       "Name: classification_yes, dtype: int64"
      ]
     },
     "execution_count": 5,
     "metadata": {},
     "output_type": "execute_result"
    }
   ],
   "source": [
    "dataset[\"classification_yes\"].value_counts()"
   ]
  },
  {
   "cell_type": "code",
   "execution_count": 6,
   "metadata": {},
   "outputs": [],
   "source": [
    "indep=dataset[['age', 'bp', 'al', 'su', 'bgr', 'bu', 'sc', 'sod', 'pot', 'hrmo', 'pcv',\n",
    "       'wc', 'rc', 'sg_b', 'sg_c', 'sg_d', 'sg_e', 'rbc_normal', 'pc_normal',\n",
    "       'pcc_present', 'ba_present', 'htn_yes', 'dm_yes', 'cad_yes',\n",
    "       'appet_yes', 'pe_yes', 'ane_yes'  ]]\n",
    "dep=dataset[['classification_yes' ]]"
   ]
  },
  {
   "cell_type": "code",
   "execution_count": 7,
   "metadata": {},
   "outputs": [],
   "source": [
    "from sklearn.model_selection import train_test_split\n",
    "X_train, X_test, y_train, y_test = train_test_split(indep, dep, test_size = 1/3, random_state = 0)"
   ]
  },
  {
   "cell_type": "code",
   "execution_count": 8,
   "metadata": {},
   "outputs": [],
   "source": [
    "from sklearn.preprocessing import StandardScaler\n",
    "sc= StandardScaler()\n",
    "x_train=sc.fit_transform(X_train)\n",
    "x_test=sc.transform(X_test)"
   ]
  },
  {
   "cell_type": "code",
   "execution_count": 9,
   "metadata": {},
   "outputs": [
    {
     "name": "stdout",
     "output_type": "stream",
     "text": [
      "Fitting 5 folds for each of 16 candidates, totalling 80 fits\n"
     ]
    },
    {
     "data": {
      "text/plain": [
       "GridSearchCV(estimator=KNeighborsClassifier(), n_jobs=-1,\n",
       "             param_grid={'algorithm': ['auto', 'ball_tree', 'kd_tree', 'brute'],\n",
       "                         'metric': ['minkowski'], 'n_neighbors': [4, 5],\n",
       "                         'p': [2], 'weights': ['uniform', 'distance']},\n",
       "             scoring='f1_weighted', verbose=3)"
      ]
     },
     "execution_count": 9,
     "metadata": {},
     "output_type": "execute_result"
    }
   ],
   "source": [
    "from sklearn.neighbors import KNeighborsClassifier\n",
    "from sklearn.model_selection import GridSearchCV\n",
    "param_grid={'n_neighbors' :[4,5] , 'weights' : ['uniform', 'distance'],'algorithm':['auto', 'ball_tree', 'kd_tree', 'brute'],'p':[2],'metric':['minkowski'] }\n",
    "grid=GridSearchCV(KNeighborsClassifier(),param_grid,refit=True,verbose=3,n_jobs=-1,scoring='f1_weighted')\n",
    "y_train = y_train.values.ravel()\n",
    "grid.fit(x_train,y_train)"
   ]
  },
  {
   "cell_type": "code",
   "execution_count": 10,
   "metadata": {},
   "outputs": [
    {
     "name": "stdout",
     "output_type": "stream",
     "text": [
      "                                               params  mean_test_score  \\\n",
      "0   {'algorithm': 'auto', 'metric': 'minkowski', '...         0.944437   \n",
      "1   {'algorithm': 'auto', 'metric': 'minkowski', '...         0.977608   \n",
      "2   {'algorithm': 'auto', 'metric': 'minkowski', '...         0.959018   \n",
      "3   {'algorithm': 'auto', 'metric': 'minkowski', '...         0.962737   \n",
      "4   {'algorithm': 'ball_tree', 'metric': 'minkowsk...         0.944437   \n",
      "5   {'algorithm': 'ball_tree', 'metric': 'minkowsk...         0.977608   \n",
      "6   {'algorithm': 'ball_tree', 'metric': 'minkowsk...         0.959018   \n",
      "7   {'algorithm': 'ball_tree', 'metric': 'minkowsk...         0.962737   \n",
      "8   {'algorithm': 'kd_tree', 'metric': 'minkowski'...         0.944437   \n",
      "9   {'algorithm': 'kd_tree', 'metric': 'minkowski'...         0.977608   \n",
      "10  {'algorithm': 'kd_tree', 'metric': 'minkowski'...         0.959018   \n",
      "11  {'algorithm': 'kd_tree', 'metric': 'minkowski'...         0.962737   \n",
      "12  {'algorithm': 'brute', 'metric': 'minkowski', ...         0.944437   \n",
      "13  {'algorithm': 'brute', 'metric': 'minkowski', ...         0.977608   \n",
      "14  {'algorithm': 'brute', 'metric': 'minkowski', ...         0.959018   \n",
      "15  {'algorithm': 'brute', 'metric': 'minkowski', ...         0.962737   \n",
      "\n",
      "    std_test_score  \n",
      "0         0.022853  \n",
      "1         0.018282  \n",
      "2         0.007502  \n",
      "3         0.011770  \n",
      "4         0.022853  \n",
      "5         0.018282  \n",
      "6         0.007502  \n",
      "7         0.011770  \n",
      "8         0.022853  \n",
      "9         0.018282  \n",
      "10        0.007502  \n",
      "11        0.011770  \n",
      "12        0.022853  \n",
      "13        0.018282  \n",
      "14        0.007502  \n",
      "15        0.011770  \n"
     ]
    }
   ],
   "source": [
    "results = pd.DataFrame(grid.cv_results_)\n",
    "print(results[['params', 'mean_test_score', 'std_test_score']])"
   ]
  },
  {
   "cell_type": "code",
   "execution_count": 11,
   "metadata": {},
   "outputs": [
    {
     "data": {
      "text/html": [
       "<div>\n",
       "<style scoped>\n",
       "    .dataframe tbody tr th:only-of-type {\n",
       "        vertical-align: middle;\n",
       "    }\n",
       "\n",
       "    .dataframe tbody tr th {\n",
       "        vertical-align: top;\n",
       "    }\n",
       "\n",
       "    .dataframe thead th {\n",
       "        text-align: right;\n",
       "    }\n",
       "</style>\n",
       "<table border=\"1\" class=\"dataframe\">\n",
       "  <thead>\n",
       "    <tr style=\"text-align: right;\">\n",
       "      <th></th>\n",
       "      <th>mean_fit_time</th>\n",
       "      <th>std_fit_time</th>\n",
       "      <th>mean_score_time</th>\n",
       "      <th>std_score_time</th>\n",
       "      <th>param_algorithm</th>\n",
       "      <th>param_metric</th>\n",
       "      <th>param_n_neighbors</th>\n",
       "      <th>param_p</th>\n",
       "      <th>param_weights</th>\n",
       "      <th>params</th>\n",
       "      <th>split0_test_score</th>\n",
       "      <th>split1_test_score</th>\n",
       "      <th>split2_test_score</th>\n",
       "      <th>split3_test_score</th>\n",
       "      <th>split4_test_score</th>\n",
       "      <th>mean_test_score</th>\n",
       "      <th>std_test_score</th>\n",
       "      <th>rank_test_score</th>\n",
       "    </tr>\n",
       "  </thead>\n",
       "  <tbody>\n",
       "    <tr>\n",
       "      <th>0</th>\n",
       "      <td>0.003925</td>\n",
       "      <td>0.005884</td>\n",
       "      <td>0.042072</td>\n",
       "      <td>0.055735</td>\n",
       "      <td>auto</td>\n",
       "      <td>minkowski</td>\n",
       "      <td>4</td>\n",
       "      <td>2</td>\n",
       "      <td>uniform</td>\n",
       "      <td>{'algorithm': 'auto', 'metric': 'minkowski', '...</td>\n",
       "      <td>0.908877</td>\n",
       "      <td>0.962636</td>\n",
       "      <td>0.925524</td>\n",
       "      <td>0.962573</td>\n",
       "      <td>0.962573</td>\n",
       "      <td>0.944437</td>\n",
       "      <td>0.022853</td>\n",
       "      <td>13</td>\n",
       "    </tr>\n",
       "    <tr>\n",
       "      <th>1</th>\n",
       "      <td>0.001088</td>\n",
       "      <td>0.000657</td>\n",
       "      <td>0.013205</td>\n",
       "      <td>0.015744</td>\n",
       "      <td>auto</td>\n",
       "      <td>minkowski</td>\n",
       "      <td>4</td>\n",
       "      <td>2</td>\n",
       "      <td>distance</td>\n",
       "      <td>{'algorithm': 'auto', 'metric': 'minkowski', '...</td>\n",
       "      <td>0.981569</td>\n",
       "      <td>0.981233</td>\n",
       "      <td>0.944023</td>\n",
       "      <td>0.981217</td>\n",
       "      <td>1.000000</td>\n",
       "      <td>0.977608</td>\n",
       "      <td>0.018282</td>\n",
       "      <td>1</td>\n",
       "    </tr>\n",
       "    <tr>\n",
       "      <th>2</th>\n",
       "      <td>0.006436</td>\n",
       "      <td>0.006726</td>\n",
       "      <td>0.021908</td>\n",
       "      <td>0.012575</td>\n",
       "      <td>auto</td>\n",
       "      <td>minkowski</td>\n",
       "      <td>5</td>\n",
       "      <td>2</td>\n",
       "      <td>uniform</td>\n",
       "      <td>{'algorithm': 'auto', 'metric': 'minkowski', '...</td>\n",
       "      <td>0.963284</td>\n",
       "      <td>0.962636</td>\n",
       "      <td>0.944023</td>\n",
       "      <td>0.962573</td>\n",
       "      <td>0.962573</td>\n",
       "      <td>0.959018</td>\n",
       "      <td>0.007502</td>\n",
       "      <td>9</td>\n",
       "    </tr>\n",
       "    <tr>\n",
       "      <th>3</th>\n",
       "      <td>0.001600</td>\n",
       "      <td>0.001496</td>\n",
       "      <td>0.012772</td>\n",
       "      <td>0.005650</td>\n",
       "      <td>auto</td>\n",
       "      <td>minkowski</td>\n",
       "      <td>5</td>\n",
       "      <td>2</td>\n",
       "      <td>distance</td>\n",
       "      <td>{'algorithm': 'auto', 'metric': 'minkowski', '...</td>\n",
       "      <td>0.963284</td>\n",
       "      <td>0.981233</td>\n",
       "      <td>0.944023</td>\n",
       "      <td>0.962573</td>\n",
       "      <td>0.962573</td>\n",
       "      <td>0.962737</td>\n",
       "      <td>0.011770</td>\n",
       "      <td>5</td>\n",
       "    </tr>\n",
       "    <tr>\n",
       "      <th>4</th>\n",
       "      <td>0.017989</td>\n",
       "      <td>0.021516</td>\n",
       "      <td>0.007667</td>\n",
       "      <td>0.006994</td>\n",
       "      <td>ball_tree</td>\n",
       "      <td>minkowski</td>\n",
       "      <td>4</td>\n",
       "      <td>2</td>\n",
       "      <td>uniform</td>\n",
       "      <td>{'algorithm': 'ball_tree', 'metric': 'minkowsk...</td>\n",
       "      <td>0.908877</td>\n",
       "      <td>0.962636</td>\n",
       "      <td>0.925524</td>\n",
       "      <td>0.962573</td>\n",
       "      <td>0.962573</td>\n",
       "      <td>0.944437</td>\n",
       "      <td>0.022853</td>\n",
       "      <td>13</td>\n",
       "    </tr>\n",
       "    <tr>\n",
       "      <th>5</th>\n",
       "      <td>0.004326</td>\n",
       "      <td>0.005808</td>\n",
       "      <td>0.009859</td>\n",
       "      <td>0.006801</td>\n",
       "      <td>ball_tree</td>\n",
       "      <td>minkowski</td>\n",
       "      <td>4</td>\n",
       "      <td>2</td>\n",
       "      <td>distance</td>\n",
       "      <td>{'algorithm': 'ball_tree', 'metric': 'minkowsk...</td>\n",
       "      <td>0.981569</td>\n",
       "      <td>0.981233</td>\n",
       "      <td>0.944023</td>\n",
       "      <td>0.981217</td>\n",
       "      <td>1.000000</td>\n",
       "      <td>0.977608</td>\n",
       "      <td>0.018282</td>\n",
       "      <td>1</td>\n",
       "    </tr>\n",
       "    <tr>\n",
       "      <th>6</th>\n",
       "      <td>0.005771</td>\n",
       "      <td>0.004912</td>\n",
       "      <td>0.015431</td>\n",
       "      <td>0.005962</td>\n",
       "      <td>ball_tree</td>\n",
       "      <td>minkowski</td>\n",
       "      <td>5</td>\n",
       "      <td>2</td>\n",
       "      <td>uniform</td>\n",
       "      <td>{'algorithm': 'ball_tree', 'metric': 'minkowsk...</td>\n",
       "      <td>0.963284</td>\n",
       "      <td>0.962636</td>\n",
       "      <td>0.944023</td>\n",
       "      <td>0.962573</td>\n",
       "      <td>0.962573</td>\n",
       "      <td>0.959018</td>\n",
       "      <td>0.007502</td>\n",
       "      <td>9</td>\n",
       "    </tr>\n",
       "    <tr>\n",
       "      <th>7</th>\n",
       "      <td>0.003352</td>\n",
       "      <td>0.002143</td>\n",
       "      <td>0.011952</td>\n",
       "      <td>0.004249</td>\n",
       "      <td>ball_tree</td>\n",
       "      <td>minkowski</td>\n",
       "      <td>5</td>\n",
       "      <td>2</td>\n",
       "      <td>distance</td>\n",
       "      <td>{'algorithm': 'ball_tree', 'metric': 'minkowsk...</td>\n",
       "      <td>0.963284</td>\n",
       "      <td>0.981233</td>\n",
       "      <td>0.944023</td>\n",
       "      <td>0.962573</td>\n",
       "      <td>0.962573</td>\n",
       "      <td>0.962737</td>\n",
       "      <td>0.011770</td>\n",
       "      <td>5</td>\n",
       "    </tr>\n",
       "    <tr>\n",
       "      <th>8</th>\n",
       "      <td>0.022150</td>\n",
       "      <td>0.039820</td>\n",
       "      <td>0.014146</td>\n",
       "      <td>0.005692</td>\n",
       "      <td>kd_tree</td>\n",
       "      <td>minkowski</td>\n",
       "      <td>4</td>\n",
       "      <td>2</td>\n",
       "      <td>uniform</td>\n",
       "      <td>{'algorithm': 'kd_tree', 'metric': 'minkowski'...</td>\n",
       "      <td>0.908877</td>\n",
       "      <td>0.962636</td>\n",
       "      <td>0.925524</td>\n",
       "      <td>0.962573</td>\n",
       "      <td>0.962573</td>\n",
       "      <td>0.944437</td>\n",
       "      <td>0.022853</td>\n",
       "      <td>13</td>\n",
       "    </tr>\n",
       "    <tr>\n",
       "      <th>9</th>\n",
       "      <td>0.004207</td>\n",
       "      <td>0.001749</td>\n",
       "      <td>0.007253</td>\n",
       "      <td>0.000754</td>\n",
       "      <td>kd_tree</td>\n",
       "      <td>minkowski</td>\n",
       "      <td>4</td>\n",
       "      <td>2</td>\n",
       "      <td>distance</td>\n",
       "      <td>{'algorithm': 'kd_tree', 'metric': 'minkowski'...</td>\n",
       "      <td>0.981569</td>\n",
       "      <td>0.981233</td>\n",
       "      <td>0.944023</td>\n",
       "      <td>0.981217</td>\n",
       "      <td>1.000000</td>\n",
       "      <td>0.977608</td>\n",
       "      <td>0.018282</td>\n",
       "      <td>1</td>\n",
       "    </tr>\n",
       "    <tr>\n",
       "      <th>10</th>\n",
       "      <td>0.005221</td>\n",
       "      <td>0.000967</td>\n",
       "      <td>0.015734</td>\n",
       "      <td>0.004802</td>\n",
       "      <td>kd_tree</td>\n",
       "      <td>minkowski</td>\n",
       "      <td>5</td>\n",
       "      <td>2</td>\n",
       "      <td>uniform</td>\n",
       "      <td>{'algorithm': 'kd_tree', 'metric': 'minkowski'...</td>\n",
       "      <td>0.963284</td>\n",
       "      <td>0.962636</td>\n",
       "      <td>0.944023</td>\n",
       "      <td>0.962573</td>\n",
       "      <td>0.962573</td>\n",
       "      <td>0.959018</td>\n",
       "      <td>0.007502</td>\n",
       "      <td>9</td>\n",
       "    </tr>\n",
       "    <tr>\n",
       "      <th>11</th>\n",
       "      <td>0.004525</td>\n",
       "      <td>0.005776</td>\n",
       "      <td>0.005567</td>\n",
       "      <td>0.005722</td>\n",
       "      <td>kd_tree</td>\n",
       "      <td>minkowski</td>\n",
       "      <td>5</td>\n",
       "      <td>2</td>\n",
       "      <td>distance</td>\n",
       "      <td>{'algorithm': 'kd_tree', 'metric': 'minkowski'...</td>\n",
       "      <td>0.963284</td>\n",
       "      <td>0.981233</td>\n",
       "      <td>0.944023</td>\n",
       "      <td>0.962573</td>\n",
       "      <td>0.962573</td>\n",
       "      <td>0.962737</td>\n",
       "      <td>0.011770</td>\n",
       "      <td>5</td>\n",
       "    </tr>\n",
       "    <tr>\n",
       "      <th>12</th>\n",
       "      <td>0.000801</td>\n",
       "      <td>0.000750</td>\n",
       "      <td>0.015834</td>\n",
       "      <td>0.004957</td>\n",
       "      <td>brute</td>\n",
       "      <td>minkowski</td>\n",
       "      <td>4</td>\n",
       "      <td>2</td>\n",
       "      <td>uniform</td>\n",
       "      <td>{'algorithm': 'brute', 'metric': 'minkowski', ...</td>\n",
       "      <td>0.908877</td>\n",
       "      <td>0.962636</td>\n",
       "      <td>0.925524</td>\n",
       "      <td>0.962573</td>\n",
       "      <td>0.962573</td>\n",
       "      <td>0.944437</td>\n",
       "      <td>0.022853</td>\n",
       "      <td>13</td>\n",
       "    </tr>\n",
       "    <tr>\n",
       "      <th>13</th>\n",
       "      <td>0.000000</td>\n",
       "      <td>0.000000</td>\n",
       "      <td>0.006251</td>\n",
       "      <td>0.007656</td>\n",
       "      <td>brute</td>\n",
       "      <td>minkowski</td>\n",
       "      <td>4</td>\n",
       "      <td>2</td>\n",
       "      <td>distance</td>\n",
       "      <td>{'algorithm': 'brute', 'metric': 'minkowski', ...</td>\n",
       "      <td>0.981569</td>\n",
       "      <td>0.981233</td>\n",
       "      <td>0.944023</td>\n",
       "      <td>0.981217</td>\n",
       "      <td>1.000000</td>\n",
       "      <td>0.977608</td>\n",
       "      <td>0.018282</td>\n",
       "      <td>1</td>\n",
       "    </tr>\n",
       "    <tr>\n",
       "      <th>14</th>\n",
       "      <td>0.000000</td>\n",
       "      <td>0.000000</td>\n",
       "      <td>0.009376</td>\n",
       "      <td>0.007655</td>\n",
       "      <td>brute</td>\n",
       "      <td>minkowski</td>\n",
       "      <td>5</td>\n",
       "      <td>2</td>\n",
       "      <td>uniform</td>\n",
       "      <td>{'algorithm': 'brute', 'metric': 'minkowski', ...</td>\n",
       "      <td>0.963284</td>\n",
       "      <td>0.962636</td>\n",
       "      <td>0.944023</td>\n",
       "      <td>0.962573</td>\n",
       "      <td>0.962573</td>\n",
       "      <td>0.959018</td>\n",
       "      <td>0.007502</td>\n",
       "      <td>9</td>\n",
       "    </tr>\n",
       "    <tr>\n",
       "      <th>15</th>\n",
       "      <td>0.000000</td>\n",
       "      <td>0.000000</td>\n",
       "      <td>0.003126</td>\n",
       "      <td>0.006252</td>\n",
       "      <td>brute</td>\n",
       "      <td>minkowski</td>\n",
       "      <td>5</td>\n",
       "      <td>2</td>\n",
       "      <td>distance</td>\n",
       "      <td>{'algorithm': 'brute', 'metric': 'minkowski', ...</td>\n",
       "      <td>0.963284</td>\n",
       "      <td>0.981233</td>\n",
       "      <td>0.944023</td>\n",
       "      <td>0.962573</td>\n",
       "      <td>0.962573</td>\n",
       "      <td>0.962737</td>\n",
       "      <td>0.011770</td>\n",
       "      <td>5</td>\n",
       "    </tr>\n",
       "  </tbody>\n",
       "</table>\n",
       "</div>"
      ],
      "text/plain": [
       "    mean_fit_time  std_fit_time  mean_score_time  std_score_time  \\\n",
       "0        0.003925      0.005884         0.042072        0.055735   \n",
       "1        0.001088      0.000657         0.013205        0.015744   \n",
       "2        0.006436      0.006726         0.021908        0.012575   \n",
       "3        0.001600      0.001496         0.012772        0.005650   \n",
       "4        0.017989      0.021516         0.007667        0.006994   \n",
       "5        0.004326      0.005808         0.009859        0.006801   \n",
       "6        0.005771      0.004912         0.015431        0.005962   \n",
       "7        0.003352      0.002143         0.011952        0.004249   \n",
       "8        0.022150      0.039820         0.014146        0.005692   \n",
       "9        0.004207      0.001749         0.007253        0.000754   \n",
       "10       0.005221      0.000967         0.015734        0.004802   \n",
       "11       0.004525      0.005776         0.005567        0.005722   \n",
       "12       0.000801      0.000750         0.015834        0.004957   \n",
       "13       0.000000      0.000000         0.006251        0.007656   \n",
       "14       0.000000      0.000000         0.009376        0.007655   \n",
       "15       0.000000      0.000000         0.003126        0.006252   \n",
       "\n",
       "   param_algorithm param_metric param_n_neighbors param_p param_weights  \\\n",
       "0             auto    minkowski                 4       2       uniform   \n",
       "1             auto    minkowski                 4       2      distance   \n",
       "2             auto    minkowski                 5       2       uniform   \n",
       "3             auto    minkowski                 5       2      distance   \n",
       "4        ball_tree    minkowski                 4       2       uniform   \n",
       "5        ball_tree    minkowski                 4       2      distance   \n",
       "6        ball_tree    minkowski                 5       2       uniform   \n",
       "7        ball_tree    minkowski                 5       2      distance   \n",
       "8          kd_tree    minkowski                 4       2       uniform   \n",
       "9          kd_tree    minkowski                 4       2      distance   \n",
       "10         kd_tree    minkowski                 5       2       uniform   \n",
       "11         kd_tree    minkowski                 5       2      distance   \n",
       "12           brute    minkowski                 4       2       uniform   \n",
       "13           brute    minkowski                 4       2      distance   \n",
       "14           brute    minkowski                 5       2       uniform   \n",
       "15           brute    minkowski                 5       2      distance   \n",
       "\n",
       "                                               params  split0_test_score  \\\n",
       "0   {'algorithm': 'auto', 'metric': 'minkowski', '...           0.908877   \n",
       "1   {'algorithm': 'auto', 'metric': 'minkowski', '...           0.981569   \n",
       "2   {'algorithm': 'auto', 'metric': 'minkowski', '...           0.963284   \n",
       "3   {'algorithm': 'auto', 'metric': 'minkowski', '...           0.963284   \n",
       "4   {'algorithm': 'ball_tree', 'metric': 'minkowsk...           0.908877   \n",
       "5   {'algorithm': 'ball_tree', 'metric': 'minkowsk...           0.981569   \n",
       "6   {'algorithm': 'ball_tree', 'metric': 'minkowsk...           0.963284   \n",
       "7   {'algorithm': 'ball_tree', 'metric': 'minkowsk...           0.963284   \n",
       "8   {'algorithm': 'kd_tree', 'metric': 'minkowski'...           0.908877   \n",
       "9   {'algorithm': 'kd_tree', 'metric': 'minkowski'...           0.981569   \n",
       "10  {'algorithm': 'kd_tree', 'metric': 'minkowski'...           0.963284   \n",
       "11  {'algorithm': 'kd_tree', 'metric': 'minkowski'...           0.963284   \n",
       "12  {'algorithm': 'brute', 'metric': 'minkowski', ...           0.908877   \n",
       "13  {'algorithm': 'brute', 'metric': 'minkowski', ...           0.981569   \n",
       "14  {'algorithm': 'brute', 'metric': 'minkowski', ...           0.963284   \n",
       "15  {'algorithm': 'brute', 'metric': 'minkowski', ...           0.963284   \n",
       "\n",
       "    split1_test_score  split2_test_score  split3_test_score  \\\n",
       "0            0.962636           0.925524           0.962573   \n",
       "1            0.981233           0.944023           0.981217   \n",
       "2            0.962636           0.944023           0.962573   \n",
       "3            0.981233           0.944023           0.962573   \n",
       "4            0.962636           0.925524           0.962573   \n",
       "5            0.981233           0.944023           0.981217   \n",
       "6            0.962636           0.944023           0.962573   \n",
       "7            0.981233           0.944023           0.962573   \n",
       "8            0.962636           0.925524           0.962573   \n",
       "9            0.981233           0.944023           0.981217   \n",
       "10           0.962636           0.944023           0.962573   \n",
       "11           0.981233           0.944023           0.962573   \n",
       "12           0.962636           0.925524           0.962573   \n",
       "13           0.981233           0.944023           0.981217   \n",
       "14           0.962636           0.944023           0.962573   \n",
       "15           0.981233           0.944023           0.962573   \n",
       "\n",
       "    split4_test_score  mean_test_score  std_test_score  rank_test_score  \n",
       "0            0.962573         0.944437        0.022853               13  \n",
       "1            1.000000         0.977608        0.018282                1  \n",
       "2            0.962573         0.959018        0.007502                9  \n",
       "3            0.962573         0.962737        0.011770                5  \n",
       "4            0.962573         0.944437        0.022853               13  \n",
       "5            1.000000         0.977608        0.018282                1  \n",
       "6            0.962573         0.959018        0.007502                9  \n",
       "7            0.962573         0.962737        0.011770                5  \n",
       "8            0.962573         0.944437        0.022853               13  \n",
       "9            1.000000         0.977608        0.018282                1  \n",
       "10           0.962573         0.959018        0.007502                9  \n",
       "11           0.962573         0.962737        0.011770                5  \n",
       "12           0.962573         0.944437        0.022853               13  \n",
       "13           1.000000         0.977608        0.018282                1  \n",
       "14           0.962573         0.959018        0.007502                9  \n",
       "15           0.962573         0.962737        0.011770                5  "
      ]
     },
     "execution_count": 11,
     "metadata": {},
     "output_type": "execute_result"
    }
   ],
   "source": [
    "re=grid.cv_results_\n",
    "table=pd.DataFrame.from_dict(re)\n",
    "table"
   ]
  },
  {
   "cell_type": "code",
   "execution_count": 12,
   "metadata": {},
   "outputs": [
    {
     "name": "stdout",
     "output_type": "stream",
     "text": [
      "Best parameter {'algorithm': 'auto', 'metric': 'minkowski', 'n_neighbors': 4, 'p': 2, 'weights': 'distance'} \n",
      "Best Estimator KNeighborsClassifier(n_neighbors=4, weights='distance') \n",
      "Best Score 0.9776084775399422 \n"
     ]
    }
   ],
   "source": [
    "bestParams=grid.best_params_\n",
    "bestEstimator=grid.best_estimator_\n",
    "bestScore=grid.best_score_\n",
    "print(\"Best parameter {} \".format(bestParams))\n",
    "print(\"Best Estimator {} \".format(bestEstimator))\n",
    "print(\"Best Score {} \".format(bestScore))"
   ]
  },
  {
   "cell_type": "code",
   "execution_count": 13,
   "metadata": {},
   "outputs": [],
   "source": [
    "gridPred=grid.predict(x_test)"
   ]
  },
  {
   "cell_type": "code",
   "execution_count": 14,
   "metadata": {},
   "outputs": [
    {
     "name": "stdout",
     "output_type": "stream",
     "text": [
      "[[51  0]\n",
      " [ 3 79]]\n"
     ]
    }
   ],
   "source": [
    "from sklearn.metrics import confusion_matrix\n",
    "cm=confusion_matrix(y_test,gridPred)\n",
    "print(cm)"
   ]
  },
  {
   "cell_type": "code",
   "execution_count": 15,
   "metadata": {},
   "outputs": [
    {
     "name": "stdout",
     "output_type": "stream",
     "text": [
      "              precision    recall  f1-score   support\n",
      "\n",
      "           0       0.94      1.00      0.97        51\n",
      "           1       1.00      0.96      0.98        82\n",
      "\n",
      "    accuracy                           0.98       133\n",
      "   macro avg       0.97      0.98      0.98       133\n",
      "weighted avg       0.98      0.98      0.98       133\n",
      "\n"
     ]
    }
   ],
   "source": [
    "from sklearn.metrics import classification_report\n",
    "clf_report=classification_report(y_test,gridPred)\n",
    "print(clf_report)"
   ]
  },
  {
   "cell_type": "code",
   "execution_count": 16,
   "metadata": {},
   "outputs": [
    {
     "data": {
      "text/plain": [
       "1.0"
      ]
     },
     "execution_count": 16,
     "metadata": {},
     "output_type": "execute_result"
    }
   ],
   "source": [
    "from sklearn.metrics import roc_auc_score\n",
    "roc_auc_score(y_test,grid.predict_proba(x_test)[:,1])"
   ]
  },
  {
   "cell_type": "code",
   "execution_count": 17,
   "metadata": {},
   "outputs": [
    {
     "name": "stdout",
     "output_type": "stream",
     "text": [
      "0.9775556904684072\n"
     ]
    }
   ],
   "source": [
    "from sklearn.metrics import f1_score\n",
    "fscore=f1_score(y_test,gridPred,average='weighted')\n",
    "print(fscore)"
   ]
  },
  {
   "cell_type": "code",
   "execution_count": 18,
   "metadata": {},
   "outputs": [
    {
     "data": {
      "text/plain": [
       "Index(['age', 'bp', 'al', 'su', 'bgr', 'bu', 'sc', 'sod', 'pot', 'hrmo', 'pcv',\n",
       "       'wc', 'rc', 'sg_b', 'sg_c', 'sg_d', 'sg_e', 'rbc_normal', 'pc_normal',\n",
       "       'pcc_present', 'ba_present', 'htn_yes', 'dm_yes', 'cad_yes',\n",
       "       'appet_yes', 'pe_yes', 'ane_yes'],\n",
       "      dtype='object')"
      ]
     },
     "execution_count": 18,
     "metadata": {},
     "output_type": "execute_result"
    }
   ],
   "source": [
    "indep.columns"
   ]
  },
  {
   "cell_type": "code",
   "execution_count": 19,
   "metadata": {},
   "outputs": [
    {
     "name": "stdout",
     "output_type": "stream",
     "text": [
      "AGE:21\n",
      "BP:55.34\n",
      "AL:2.3\n",
      "SU:2\n",
      "BGR:89.3\n",
      "BU:34.3\n",
      "SC:2\n",
      "SOD120.4\n",
      "POT:2.3\n",
      "HRMO:7.4\n",
      "PCV:23\n",
      "WC:1200\n",
      "RC:2.5\n",
      "SG B:0\n",
      "SG C:1\n",
      "SG D:0\n",
      "SG E:0\n",
      "RBC NORMAL:1\n",
      "PC NORMAL:0\n",
      "PC PRESENT:0\n",
      "BA PRESENT:1\n",
      "HTN YES:1\n",
      "DM YES:1\n",
      "CAD YES:0\n",
      "APPET YES:1\n",
      "PE YES1\n",
      "ANE YES:0\n"
     ]
    }
   ],
   "source": [
    "age=int(input(\"AGE:\"))\n",
    "bp=float(input(\"BP:\"))\n",
    "al=float(input(\"AL:\"))\n",
    "su=int(input(\"SU:\"))\n",
    "bgr=float(input(\"BGR:\"))\n",
    "bu=float(input(\"BU:\"))\n",
    "sc=int(input(\"SC:\"))\n",
    "sod=float(input(\"SOD\"))\n",
    "pot=float(input(\"POT:\"))\n",
    "hrmo=float(input(\"HRMO:\"))\n",
    "pcv=int(input(\"PCV:\"))\n",
    "wc=int(input(\"WC:\"))\n",
    "rc=float(input(\"RC:\"))\n",
    "sg_b=int(input(\"SG B:\"))\n",
    "sg_c=int(input(\"SG C:\"))\n",
    "sg_d=int(input(\"SG D:\"))\n",
    "sg_e=int(input(\"SG E:\"))\n",
    "rbc_normal=int(input(\"RBC NORMAL:\"))\n",
    "pc_normal=int(input(\"PC NORMAL:\"))\n",
    "pcc_present=int(input(\"PC PRESENT:\"))\n",
    "ba_present=int(input(\"BA PRESENT:\"))\n",
    "htn_yes=int(input(\"HTN YES:\"))\n",
    "dm_yes=int(input(\"DM YES:\"))\n",
    "cad_yes=int(input(\"CAD YES:\"))\n",
    "appet_yes=int(input(\"APPET YES:\"))\n",
    "pe_yes=int(input(\"PE YES\"))\n",
    "ane_yes=int(input(\"ANE YES:\"))"
   ]
  },
  {
   "cell_type": "code",
   "execution_count": 20,
   "metadata": {},
   "outputs": [],
   "source": [
    "Prediction=grid.predict([[age,bp,al,su, bgr, bu, sc, sod, pot, hrmo, pcv,\n",
    "       wc, rc, sg_b, sg_c, sg_d, sg_e, rbc_normal, pc_normal,\n",
    "       pcc_present, ba_present, htn_yes, dm_yes, cad_yes,\n",
    "       appet_yes, pe_yes, ane_yes]])"
   ]
  },
  {
   "cell_type": "code",
   "execution_count": 21,
   "metadata": {},
   "outputs": [
    {
     "name": "stdout",
     "output_type": "stream",
     "text": [
      " Prediction Value : [1] \n"
     ]
    }
   ],
   "source": [
    "print(\" Prediction Value : {} \".format(Prediction))"
   ]
  },
  {
   "cell_type": "code",
   "execution_count": null,
   "metadata": {},
   "outputs": [],
   "source": []
  }
 ],
 "metadata": {
  "kernelspec": {
   "display_name": "Python 3",
   "language": "python",
   "name": "python3"
  },
  "language_info": {
   "codemirror_mode": {
    "name": "ipython",
    "version": 3
   },
   "file_extension": ".py",
   "mimetype": "text/x-python",
   "name": "python",
   "nbconvert_exporter": "python",
   "pygments_lexer": "ipython3",
   "version": "3.7.4"
  }
 },
 "nbformat": 4,
 "nbformat_minor": 2
}
