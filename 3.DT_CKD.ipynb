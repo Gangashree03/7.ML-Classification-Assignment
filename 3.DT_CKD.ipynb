{
 "cells": [
  {
   "cell_type": "code",
   "execution_count": 1,
   "metadata": {},
   "outputs": [],
   "source": [
    "import pandas as pd"
   ]
  },
  {
   "cell_type": "code",
   "execution_count": 2,
   "metadata": {},
   "outputs": [],
   "source": [
    "dataset=pd.read_csv(\"CKD.csv\")"
   ]
  },
  {
   "cell_type": "code",
   "execution_count": 3,
   "metadata": {},
   "outputs": [],
   "source": [
    "dataset=pd.get_dummies(dataset,drop_first=True)"
   ]
  },
  {
   "cell_type": "code",
   "execution_count": 4,
   "metadata": {},
   "outputs": [
    {
     "data": {
      "text/plain": [
       "Index(['age', 'bp', 'al', 'su', 'bgr', 'bu', 'sc', 'sod', 'pot', 'hrmo', 'pcv',\n",
       "       'wc', 'rc', 'sg_b', 'sg_c', 'sg_d', 'sg_e', 'rbc_normal', 'pc_normal',\n",
       "       'pcc_present', 'ba_present', 'htn_yes', 'dm_yes', 'cad_yes',\n",
       "       'appet_yes', 'pe_yes', 'ane_yes', 'classification_yes'],\n",
       "      dtype='object')"
      ]
     },
     "execution_count": 4,
     "metadata": {},
     "output_type": "execute_result"
    }
   ],
   "source": [
    "dataset.columns"
   ]
  },
  {
   "cell_type": "code",
   "execution_count": 5,
   "metadata": {},
   "outputs": [
    {
     "data": {
      "text/plain": [
       "1    249\n",
       "0    150\n",
       "Name: classification_yes, dtype: int64"
      ]
     },
     "execution_count": 5,
     "metadata": {},
     "output_type": "execute_result"
    }
   ],
   "source": [
    "dataset[\"classification_yes\"].value_counts()"
   ]
  },
  {
   "cell_type": "code",
   "execution_count": 6,
   "metadata": {},
   "outputs": [],
   "source": [
    "indep=dataset[['age', 'bp', 'al', 'su', 'bgr', 'bu', 'sc', 'sod', 'pot', 'hrmo', 'pcv',\n",
    "       'wc', 'rc', 'sg_b', 'sg_c', 'sg_d', 'sg_e', 'rbc_normal', 'pc_normal',\n",
    "       'pcc_present', 'ba_present', 'htn_yes', 'dm_yes', 'cad_yes',\n",
    "       'appet_yes', 'pe_yes', 'ane_yes'  ]]\n",
    "dep=dataset[['classification_yes' ]]"
   ]
  },
  {
   "cell_type": "code",
   "execution_count": 7,
   "metadata": {},
   "outputs": [],
   "source": [
    "from sklearn.model_selection import train_test_split\n",
    "X_train, X_test, y_train, y_test = train_test_split(indep, dep, test_size = 1/3, random_state = 0)"
   ]
  },
  {
   "cell_type": "code",
   "execution_count": 8,
   "metadata": {},
   "outputs": [],
   "source": [
    "from sklearn.preprocessing import StandardScaler\n",
    "sc= StandardScaler()\n",
    "x_train=sc.fit_transform(X_train)\n",
    "x_test=sc.transform(X_test)"
   ]
  },
  {
   "cell_type": "code",
   "execution_count": 9,
   "metadata": {},
   "outputs": [
    {
     "name": "stdout",
     "output_type": "stream",
     "text": [
      "Fitting 5 folds for each of 8 candidates, totalling 40 fits\n"
     ]
    },
    {
     "data": {
      "text/plain": [
       "GridSearchCV(estimator=DecisionTreeClassifier(), n_jobs=-1,\n",
       "             param_grid={'criterion': ['gini', 'entropy'],\n",
       "                         'max_features': ['sqrt', 'log2'],\n",
       "                         'splitter': ['best', 'random']},\n",
       "             scoring='f1_weighted', verbose=3)"
      ]
     },
     "execution_count": 9,
     "metadata": {},
     "output_type": "execute_result"
    }
   ],
   "source": [
    "from sklearn.model_selection import GridSearchCV\n",
    "from sklearn.tree import DecisionTreeClassifier\n",
    "param_grid = {'criterion':['gini', 'entropy'],'max_features':['sqrt','log2'],'splitter':['best','random']}\n",
    "grid = GridSearchCV( DecisionTreeClassifier(), param_grid, refit = True, verbose = 3,n_jobs=-1,scoring='f1_weighted')\n",
    "grid.fit(x_train,y_train)"
   ]
  },
  {
   "cell_type": "code",
   "execution_count": 10,
   "metadata": {},
   "outputs": [
    {
     "name": "stdout",
     "output_type": "stream",
     "text": [
      "                                              params  mean_test_score  \\\n",
      "0  {'criterion': 'gini', 'max_features': 'sqrt', ...         0.950779   \n",
      "1  {'criterion': 'gini', 'max_features': 'sqrt', ...         0.977315   \n",
      "2  {'criterion': 'gini', 'max_features': 'log2', ...         0.955059   \n",
      "3  {'criterion': 'gini', 'max_features': 'log2', ...         0.955001   \n",
      "4  {'criterion': 'entropy', 'max_features': 'sqrt...         0.947490   \n",
      "5  {'criterion': 'entropy', 'max_features': 'sqrt...         0.951210   \n",
      "6  {'criterion': 'entropy', 'max_features': 'log2...         0.928832   \n",
      "7  {'criterion': 'entropy', 'max_features': 'log2...         0.977518   \n",
      "\n",
      "   std_test_score  \n",
      "0        0.023034  \n",
      "1        0.014164  \n",
      "2        0.008974  \n",
      "3        0.022512  \n",
      "4        0.030303  \n",
      "5        0.028225  \n",
      "6        0.027434  \n",
      "7        0.007475  \n"
     ]
    }
   ],
   "source": [
    "results = pd.DataFrame(grid.cv_results_)\n",
    "print(results[['params', 'mean_test_score', 'std_test_score']])"
   ]
  },
  {
   "cell_type": "code",
   "execution_count": 11,
   "metadata": {},
   "outputs": [
    {
     "data": {
      "text/html": [
       "<div>\n",
       "<style scoped>\n",
       "    .dataframe tbody tr th:only-of-type {\n",
       "        vertical-align: middle;\n",
       "    }\n",
       "\n",
       "    .dataframe tbody tr th {\n",
       "        vertical-align: top;\n",
       "    }\n",
       "\n",
       "    .dataframe thead th {\n",
       "        text-align: right;\n",
       "    }\n",
       "</style>\n",
       "<table border=\"1\" class=\"dataframe\">\n",
       "  <thead>\n",
       "    <tr style=\"text-align: right;\">\n",
       "      <th></th>\n",
       "      <th>mean_fit_time</th>\n",
       "      <th>std_fit_time</th>\n",
       "      <th>mean_score_time</th>\n",
       "      <th>std_score_time</th>\n",
       "      <th>param_criterion</th>\n",
       "      <th>param_max_features</th>\n",
       "      <th>param_splitter</th>\n",
       "      <th>params</th>\n",
       "      <th>split0_test_score</th>\n",
       "      <th>split1_test_score</th>\n",
       "      <th>split2_test_score</th>\n",
       "      <th>split3_test_score</th>\n",
       "      <th>split4_test_score</th>\n",
       "      <th>mean_test_score</th>\n",
       "      <th>std_test_score</th>\n",
       "      <th>rank_test_score</th>\n",
       "    </tr>\n",
       "  </thead>\n",
       "  <tbody>\n",
       "    <tr>\n",
       "      <th>0</th>\n",
       "      <td>0.003126</td>\n",
       "      <td>0.006251</td>\n",
       "      <td>0.009841</td>\n",
       "      <td>0.008079</td>\n",
       "      <td>gini</td>\n",
       "      <td>sqrt</td>\n",
       "      <td>best</td>\n",
       "      <td>{'criterion': 'gini', 'max_features': 'sqrt', ...</td>\n",
       "      <td>0.962963</td>\n",
       "      <td>0.962264</td>\n",
       "      <td>0.925146</td>\n",
       "      <td>0.922492</td>\n",
       "      <td>0.981031</td>\n",
       "      <td>0.950779</td>\n",
       "      <td>0.023034</td>\n",
       "      <td>6</td>\n",
       "    </tr>\n",
       "    <tr>\n",
       "      <th>1</th>\n",
       "      <td>0.009349</td>\n",
       "      <td>0.007633</td>\n",
       "      <td>0.003126</td>\n",
       "      <td>0.006252</td>\n",
       "      <td>gini</td>\n",
       "      <td>sqrt</td>\n",
       "      <td>random</td>\n",
       "      <td>{'criterion': 'gini', 'max_features': 'sqrt', ...</td>\n",
       "      <td>1.000000</td>\n",
       "      <td>0.961755</td>\n",
       "      <td>0.981217</td>\n",
       "      <td>0.981031</td>\n",
       "      <td>0.962573</td>\n",
       "      <td>0.977315</td>\n",
       "      <td>0.014164</td>\n",
       "      <td>2</td>\n",
       "    </tr>\n",
       "    <tr>\n",
       "      <th>2</th>\n",
       "      <td>0.009377</td>\n",
       "      <td>0.007656</td>\n",
       "      <td>0.006250</td>\n",
       "      <td>0.007654</td>\n",
       "      <td>gini</td>\n",
       "      <td>log2</td>\n",
       "      <td>best</td>\n",
       "      <td>{'criterion': 'gini', 'max_features': 'log2', ...</td>\n",
       "      <td>0.945100</td>\n",
       "      <td>0.962264</td>\n",
       "      <td>0.962573</td>\n",
       "      <td>0.943093</td>\n",
       "      <td>0.962264</td>\n",
       "      <td>0.955059</td>\n",
       "      <td>0.008974</td>\n",
       "      <td>3</td>\n",
       "    </tr>\n",
       "    <tr>\n",
       "      <th>3</th>\n",
       "      <td>0.009452</td>\n",
       "      <td>0.005827</td>\n",
       "      <td>0.001600</td>\n",
       "      <td>0.003200</td>\n",
       "      <td>gini</td>\n",
       "      <td>log2</td>\n",
       "      <td>random</td>\n",
       "      <td>{'criterion': 'gini', 'max_features': 'log2', ...</td>\n",
       "      <td>0.981569</td>\n",
       "      <td>0.943041</td>\n",
       "      <td>0.925524</td>\n",
       "      <td>0.943651</td>\n",
       "      <td>0.981217</td>\n",
       "      <td>0.955001</td>\n",
       "      <td>0.022512</td>\n",
       "      <td>4</td>\n",
       "    </tr>\n",
       "    <tr>\n",
       "      <th>4</th>\n",
       "      <td>0.011973</td>\n",
       "      <td>0.009514</td>\n",
       "      <td>0.000000</td>\n",
       "      <td>0.000000</td>\n",
       "      <td>entropy</td>\n",
       "      <td>sqrt</td>\n",
       "      <td>best</td>\n",
       "      <td>{'criterion': 'entropy', 'max_features': 'sqrt...</td>\n",
       "      <td>0.944707</td>\n",
       "      <td>0.905069</td>\n",
       "      <td>0.944023</td>\n",
       "      <td>0.943651</td>\n",
       "      <td>1.000000</td>\n",
       "      <td>0.947490</td>\n",
       "      <td>0.030303</td>\n",
       "      <td>7</td>\n",
       "    </tr>\n",
       "    <tr>\n",
       "      <th>5</th>\n",
       "      <td>0.006402</td>\n",
       "      <td>0.003201</td>\n",
       "      <td>0.004798</td>\n",
       "      <td>0.003917</td>\n",
       "      <td>entropy</td>\n",
       "      <td>sqrt</td>\n",
       "      <td>random</td>\n",
       "      <td>{'criterion': 'entropy', 'max_features': 'sqrt...</td>\n",
       "      <td>0.963284</td>\n",
       "      <td>0.924528</td>\n",
       "      <td>0.925146</td>\n",
       "      <td>0.943093</td>\n",
       "      <td>1.000000</td>\n",
       "      <td>0.951210</td>\n",
       "      <td>0.028225</td>\n",
       "      <td>5</td>\n",
       "    </tr>\n",
       "    <tr>\n",
       "      <th>6</th>\n",
       "      <td>0.006402</td>\n",
       "      <td>0.003201</td>\n",
       "      <td>0.004800</td>\n",
       "      <td>0.003919</td>\n",
       "      <td>entropy</td>\n",
       "      <td>log2</td>\n",
       "      <td>best</td>\n",
       "      <td>{'criterion': 'entropy', 'max_features': 'log2...</td>\n",
       "      <td>0.945100</td>\n",
       "      <td>0.905069</td>\n",
       "      <td>0.888515</td>\n",
       "      <td>0.961826</td>\n",
       "      <td>0.943651</td>\n",
       "      <td>0.928832</td>\n",
       "      <td>0.027434</td>\n",
       "      <td>8</td>\n",
       "    </tr>\n",
       "    <tr>\n",
       "      <th>7</th>\n",
       "      <td>0.019202</td>\n",
       "      <td>0.018659</td>\n",
       "      <td>0.003201</td>\n",
       "      <td>0.003920</td>\n",
       "      <td>entropy</td>\n",
       "      <td>log2</td>\n",
       "      <td>random</td>\n",
       "      <td>{'criterion': 'entropy', 'max_features': 'log2...</td>\n",
       "      <td>0.981569</td>\n",
       "      <td>0.981014</td>\n",
       "      <td>0.981217</td>\n",
       "      <td>0.981217</td>\n",
       "      <td>0.962573</td>\n",
       "      <td>0.977518</td>\n",
       "      <td>0.007475</td>\n",
       "      <td>1</td>\n",
       "    </tr>\n",
       "  </tbody>\n",
       "</table>\n",
       "</div>"
      ],
      "text/plain": [
       "   mean_fit_time  std_fit_time  mean_score_time  std_score_time  \\\n",
       "0       0.003126      0.006251         0.009841        0.008079   \n",
       "1       0.009349      0.007633         0.003126        0.006252   \n",
       "2       0.009377      0.007656         0.006250        0.007654   \n",
       "3       0.009452      0.005827         0.001600        0.003200   \n",
       "4       0.011973      0.009514         0.000000        0.000000   \n",
       "5       0.006402      0.003201         0.004798        0.003917   \n",
       "6       0.006402      0.003201         0.004800        0.003919   \n",
       "7       0.019202      0.018659         0.003201        0.003920   \n",
       "\n",
       "  param_criterion param_max_features param_splitter  \\\n",
       "0            gini               sqrt           best   \n",
       "1            gini               sqrt         random   \n",
       "2            gini               log2           best   \n",
       "3            gini               log2         random   \n",
       "4         entropy               sqrt           best   \n",
       "5         entropy               sqrt         random   \n",
       "6         entropy               log2           best   \n",
       "7         entropy               log2         random   \n",
       "\n",
       "                                              params  split0_test_score  \\\n",
       "0  {'criterion': 'gini', 'max_features': 'sqrt', ...           0.962963   \n",
       "1  {'criterion': 'gini', 'max_features': 'sqrt', ...           1.000000   \n",
       "2  {'criterion': 'gini', 'max_features': 'log2', ...           0.945100   \n",
       "3  {'criterion': 'gini', 'max_features': 'log2', ...           0.981569   \n",
       "4  {'criterion': 'entropy', 'max_features': 'sqrt...           0.944707   \n",
       "5  {'criterion': 'entropy', 'max_features': 'sqrt...           0.963284   \n",
       "6  {'criterion': 'entropy', 'max_features': 'log2...           0.945100   \n",
       "7  {'criterion': 'entropy', 'max_features': 'log2...           0.981569   \n",
       "\n",
       "   split1_test_score  split2_test_score  split3_test_score  split4_test_score  \\\n",
       "0           0.962264           0.925146           0.922492           0.981031   \n",
       "1           0.961755           0.981217           0.981031           0.962573   \n",
       "2           0.962264           0.962573           0.943093           0.962264   \n",
       "3           0.943041           0.925524           0.943651           0.981217   \n",
       "4           0.905069           0.944023           0.943651           1.000000   \n",
       "5           0.924528           0.925146           0.943093           1.000000   \n",
       "6           0.905069           0.888515           0.961826           0.943651   \n",
       "7           0.981014           0.981217           0.981217           0.962573   \n",
       "\n",
       "   mean_test_score  std_test_score  rank_test_score  \n",
       "0         0.950779        0.023034                6  \n",
       "1         0.977315        0.014164                2  \n",
       "2         0.955059        0.008974                3  \n",
       "3         0.955001        0.022512                4  \n",
       "4         0.947490        0.030303                7  \n",
       "5         0.951210        0.028225                5  \n",
       "6         0.928832        0.027434                8  \n",
       "7         0.977518        0.007475                1  "
      ]
     },
     "execution_count": 11,
     "metadata": {},
     "output_type": "execute_result"
    }
   ],
   "source": [
    "re=grid.cv_results_\n",
    "table=pd.DataFrame.from_dict(re)\n",
    "table"
   ]
  },
  {
   "cell_type": "code",
   "execution_count": 12,
   "metadata": {},
   "outputs": [
    {
     "name": "stdout",
     "output_type": "stream",
     "text": [
      "Best parameter {'criterion': 'entropy', 'max_features': 'log2', 'splitter': 'random'} \n",
      "Best Estimator DecisionTreeClassifier(criterion='entropy', max_features='log2',\n",
      "                       splitter='random') \n",
      "Best Score 0.97751800322885 \n"
     ]
    }
   ],
   "source": [
    "bestParams=grid.best_params_\n",
    "bestEstimator=grid.best_estimator_\n",
    "bestScore=grid.best_score_\n",
    "print(\"Best parameter {} \".format(bestParams))\n",
    "print(\"Best Estimator {} \".format(bestEstimator))\n",
    "print(\"Best Score {} \".format(bestScore))"
   ]
  },
  {
   "cell_type": "code",
   "execution_count": 13,
   "metadata": {},
   "outputs": [],
   "source": [
    "gridPred=grid.predict(x_test)"
   ]
  },
  {
   "cell_type": "code",
   "execution_count": 14,
   "metadata": {},
   "outputs": [
    {
     "name": "stdout",
     "output_type": "stream",
     "text": [
      "[[47  4]\n",
      " [ 6 76]]\n"
     ]
    }
   ],
   "source": [
    "from sklearn.metrics import confusion_matrix\n",
    "cm=confusion_matrix(y_test,gridPred)\n",
    "print(cm)"
   ]
  },
  {
   "cell_type": "code",
   "execution_count": 15,
   "metadata": {},
   "outputs": [
    {
     "name": "stdout",
     "output_type": "stream",
     "text": [
      "              precision    recall  f1-score   support\n",
      "\n",
      "           0       0.89      0.92      0.90        51\n",
      "           1       0.95      0.93      0.94        82\n",
      "\n",
      "    accuracy                           0.92       133\n",
      "   macro avg       0.92      0.92      0.92       133\n",
      "weighted avg       0.93      0.92      0.93       133\n",
      "\n"
     ]
    }
   ],
   "source": [
    "from sklearn.metrics import classification_report\n",
    "clf_report=classification_report(y_test,gridPred)\n",
    "print(clf_report)"
   ]
  },
  {
   "cell_type": "code",
   "execution_count": 16,
   "metadata": {},
   "outputs": [
    {
     "data": {
      "text/plain": [
       "0.9241989478718318"
      ]
     },
     "execution_count": 16,
     "metadata": {},
     "output_type": "execute_result"
    }
   ],
   "source": [
    "from sklearn.metrics import roc_auc_score\n",
    "roc_auc_score(y_test,grid.predict_proba(x_test)[:,1])"
   ]
  },
  {
   "cell_type": "code",
   "execution_count": 17,
   "metadata": {},
   "outputs": [
    {
     "name": "stdout",
     "output_type": "stream",
     "text": [
      "0.9250708680533242\n"
     ]
    }
   ],
   "source": [
    "from sklearn.metrics import f1_score\n",
    "fscore=f1_score(y_test,gridPred,average='weighted')\n",
    "print(fscore)"
   ]
  },
  {
   "cell_type": "code",
   "execution_count": 18,
   "metadata": {},
   "outputs": [
    {
     "data": {
      "text/plain": [
       "Index(['age', 'bp', 'al', 'su', 'bgr', 'bu', 'sc', 'sod', 'pot', 'hrmo', 'pcv',\n",
       "       'wc', 'rc', 'sg_b', 'sg_c', 'sg_d', 'sg_e', 'rbc_normal', 'pc_normal',\n",
       "       'pcc_present', 'ba_present', 'htn_yes', 'dm_yes', 'cad_yes',\n",
       "       'appet_yes', 'pe_yes', 'ane_yes'],\n",
       "      dtype='object')"
      ]
     },
     "execution_count": 18,
     "metadata": {},
     "output_type": "execute_result"
    }
   ],
   "source": [
    "indep.columns"
   ]
  },
  {
   "cell_type": "code",
   "execution_count": 20,
   "metadata": {},
   "outputs": [
    {
     "name": "stdout",
     "output_type": "stream",
     "text": [
      "AGE:21\n",
      "BP:55.34\n",
      "AL:2.3\n",
      "SU:2\n",
      "BGR:89.3\n",
      "BU:34.3\n",
      "SC:2\n",
      "SOD120.4\n",
      "POT:2.3\n",
      "HRMO:7.4\n",
      "PCV:23\n",
      "WC:1200\n",
      "RC:2.5\n",
      "SG B:0\n",
      "SG C:1\n",
      "SG D:0\n",
      "SG E:0\n",
      "RBC NORMAL:1\n",
      "PC NORMAL:0\n",
      "PC PRESENT:1\n",
      "BA PRESENT:1\n",
      "HTN YES:1\n",
      "DM YES:0\n",
      "CAD YES:0\n",
      "APPET YES:1\n",
      "PE YES1\n",
      "ANE YES:0\n"
     ]
    }
   ],
   "source": [
    "age=int(input(\"AGE:\"))\n",
    "bp=float(input(\"BP:\"))\n",
    "al=float(input(\"AL:\"))\n",
    "su=int(input(\"SU:\"))\n",
    "bgr=float(input(\"BGR:\"))\n",
    "bu=float(input(\"BU:\"))\n",
    "sc=int(input(\"SC:\"))\n",
    "sod=float(input(\"SOD\"))\n",
    "pot=float(input(\"POT:\"))\n",
    "hrmo=float(input(\"HRMO:\"))\n",
    "pcv=int(input(\"PCV:\"))\n",
    "wc=int(input(\"WC:\"))\n",
    "rc=float(input(\"RC:\"))\n",
    "sg_b=int(input(\"SG B:\"))\n",
    "sg_c=int(input(\"SG C:\"))\n",
    "sg_d=int(input(\"SG D:\"))\n",
    "sg_e=int(input(\"SG E:\"))\n",
    "rbc_normal=int(input(\"RBC NORMAL:\"))\n",
    "pc_normal=int(input(\"PC NORMAL:\"))\n",
    "pcc_present=int(input(\"PC PRESENT:\"))\n",
    "ba_present=int(input(\"BA PRESENT:\"))\n",
    "htn_yes=int(input(\"HTN YES:\"))\n",
    "dm_yes=int(input(\"DM YES:\"))\n",
    "cad_yes=int(input(\"CAD YES:\"))\n",
    "appet_yes=int(input(\"APPET YES:\"))\n",
    "pe_yes=int(input(\"PE YES\"))\n",
    "ane_yes=int(input(\"ANE YES:\"))"
   ]
  },
  {
   "cell_type": "code",
   "execution_count": 21,
   "metadata": {},
   "outputs": [],
   "source": [
    "Prediction=grid.predict([[age,bp,al,su, bgr, bu, sc, sod, pot, hrmo, pcv,\n",
    "       wc, rc, sg_b, sg_c, sg_d, sg_e, rbc_normal, pc_normal,\n",
    "       pcc_present, ba_present, htn_yes, dm_yes, cad_yes,\n",
    "       appet_yes, pe_yes, ane_yes]])"
   ]
  },
  {
   "cell_type": "code",
   "execution_count": 22,
   "metadata": {},
   "outputs": [
    {
     "name": "stdout",
     "output_type": "stream",
     "text": [
      " Prediction Value : [1] \n"
     ]
    }
   ],
   "source": [
    "print(\" Prediction Value : {} \".format(Prediction))"
   ]
  },
  {
   "cell_type": "code",
   "execution_count": null,
   "metadata": {},
   "outputs": [],
   "source": []
  }
 ],
 "metadata": {
  "kernelspec": {
   "display_name": "Python 3",
   "language": "python",
   "name": "python3"
  },
  "language_info": {
   "codemirror_mode": {
    "name": "ipython",
    "version": 3
   },
   "file_extension": ".py",
   "mimetype": "text/x-python",
   "name": "python",
   "nbconvert_exporter": "python",
   "pygments_lexer": "ipython3",
   "version": "3.7.4"
  }
 },
 "nbformat": 4,
 "nbformat_minor": 2
}
