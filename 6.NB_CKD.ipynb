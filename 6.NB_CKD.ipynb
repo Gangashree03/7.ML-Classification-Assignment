{
 "cells": [
  {
   "cell_type": "code",
   "execution_count": 1,
   "metadata": {},
   "outputs": [],
   "source": [
    "import pandas as pd"
   ]
  },
  {
   "cell_type": "code",
   "execution_count": 2,
   "metadata": {},
   "outputs": [],
   "source": [
    "dataset=pd.read_csv(\"CKD.csv\")"
   ]
  },
  {
   "cell_type": "code",
   "execution_count": 3,
   "metadata": {},
   "outputs": [],
   "source": [
    "dataset=pd.get_dummies(dataset,drop_first=True)"
   ]
  },
  {
   "cell_type": "code",
   "execution_count": 4,
   "metadata": {},
   "outputs": [
    {
     "data": {
      "text/plain": [
       "Index(['age', 'bp', 'al', 'su', 'bgr', 'bu', 'sc', 'sod', 'pot', 'hrmo', 'pcv',\n",
       "       'wc', 'rc', 'sg_b', 'sg_c', 'sg_d', 'sg_e', 'rbc_normal', 'pc_normal',\n",
       "       'pcc_present', 'ba_present', 'htn_yes', 'dm_yes', 'cad_yes',\n",
       "       'appet_yes', 'pe_yes', 'ane_yes', 'classification_yes'],\n",
       "      dtype='object')"
      ]
     },
     "execution_count": 4,
     "metadata": {},
     "output_type": "execute_result"
    }
   ],
   "source": [
    "dataset.columns"
   ]
  },
  {
   "cell_type": "code",
   "execution_count": 5,
   "metadata": {},
   "outputs": [
    {
     "data": {
      "text/plain": [
       "1    249\n",
       "0    150\n",
       "Name: classification_yes, dtype: int64"
      ]
     },
     "execution_count": 5,
     "metadata": {},
     "output_type": "execute_result"
    }
   ],
   "source": [
    "dataset[\"classification_yes\"].value_counts()"
   ]
  },
  {
   "cell_type": "code",
   "execution_count": 6,
   "metadata": {},
   "outputs": [],
   "source": [
    "indep=dataset[['age', 'bp', 'al', 'su', 'bgr', 'bu', 'sc', 'sod', 'pot', 'hrmo', 'pcv',\n",
    "       'wc', 'rc', 'sg_b', 'sg_c', 'sg_d', 'sg_e', 'rbc_normal', 'pc_normal',\n",
    "       'pcc_present', 'ba_present', 'htn_yes', 'dm_yes', 'cad_yes',\n",
    "       'appet_yes', 'pe_yes', 'ane_yes'  ]]\n",
    "dep=dataset[['classification_yes' ]]"
   ]
  },
  {
   "cell_type": "code",
   "execution_count": 7,
   "metadata": {},
   "outputs": [],
   "source": [
    "from sklearn.model_selection import train_test_split\n",
    "X_train, X_test, y_train, y_test = train_test_split(indep, dep, test_size = 1/3, random_state = 0)"
   ]
  },
  {
   "cell_type": "code",
   "execution_count": 8,
   "metadata": {},
   "outputs": [],
   "source": [
    "from sklearn.preprocessing import StandardScaler\n",
    "sc= StandardScaler()\n",
    "x_train=sc.fit_transform(X_train)\n",
    "x_test=sc.transform(X_test)"
   ]
  },
  {
   "cell_type": "code",
   "execution_count": 9,
   "metadata": {},
   "outputs": [
    {
     "name": "stdout",
     "output_type": "stream",
     "text": [
      "Fitting 5 folds for each of 1 candidates, totalling 5 fits\n"
     ]
    },
    {
     "data": {
      "text/plain": [
       "GridSearchCV(estimator=BernoulliNB(), n_jobs=-1,\n",
       "             param_grid={'alpha': [1.0], 'binarize': [0.0]},\n",
       "             scoring='f1_weighted', verbose=3)"
      ]
     },
     "execution_count": 9,
     "metadata": {},
     "output_type": "execute_result"
    }
   ],
   "source": [
    "from sklearn.model_selection import GridSearchCV\n",
    "from sklearn.naive_bayes import BernoulliNB\n",
    "y_train = y_train.values.ravel() \n",
    "param_grid={'alpha':[1.0],'binarize':[ 0.0]}\n",
    "grid=GridSearchCV(BernoulliNB(),param_grid,refit=True,verbose=3,n_jobs=-1,scoring='f1_weighted')\n",
    "grid.fit(x_train,y_train)"
   ]
  },
  {
   "cell_type": "code",
   "execution_count": 10,
   "metadata": {},
   "outputs": [
    {
     "name": "stdout",
     "output_type": "stream",
     "text": [
      "                            params  mean_test_score  std_test_score\n",
      "0  {'alpha': 1.0, 'binarize': 0.0}         0.988758        0.014978\n"
     ]
    }
   ],
   "source": [
    "results = pd.DataFrame(grid.cv_results_)\n",
    "print(results[['params', 'mean_test_score', 'std_test_score']])"
   ]
  },
  {
   "cell_type": "code",
   "execution_count": 11,
   "metadata": {},
   "outputs": [
    {
     "data": {
      "text/html": [
       "<div>\n",
       "<style scoped>\n",
       "    .dataframe tbody tr th:only-of-type {\n",
       "        vertical-align: middle;\n",
       "    }\n",
       "\n",
       "    .dataframe tbody tr th {\n",
       "        vertical-align: top;\n",
       "    }\n",
       "\n",
       "    .dataframe thead th {\n",
       "        text-align: right;\n",
       "    }\n",
       "</style>\n",
       "<table border=\"1\" class=\"dataframe\">\n",
       "  <thead>\n",
       "    <tr style=\"text-align: right;\">\n",
       "      <th></th>\n",
       "      <th>mean_fit_time</th>\n",
       "      <th>std_fit_time</th>\n",
       "      <th>mean_score_time</th>\n",
       "      <th>std_score_time</th>\n",
       "      <th>param_alpha</th>\n",
       "      <th>param_binarize</th>\n",
       "      <th>params</th>\n",
       "      <th>split0_test_score</th>\n",
       "      <th>split1_test_score</th>\n",
       "      <th>split2_test_score</th>\n",
       "      <th>split3_test_score</th>\n",
       "      <th>split4_test_score</th>\n",
       "      <th>mean_test_score</th>\n",
       "      <th>std_test_score</th>\n",
       "      <th>rank_test_score</th>\n",
       "    </tr>\n",
       "  </thead>\n",
       "  <tbody>\n",
       "    <tr>\n",
       "      <th>0</th>\n",
       "      <td>0.036857</td>\n",
       "      <td>0.041976</td>\n",
       "      <td>0.015714</td>\n",
       "      <td>0.012947</td>\n",
       "      <td>1.0</td>\n",
       "      <td>0.0</td>\n",
       "      <td>{'alpha': 1.0, 'binarize': 0.0}</td>\n",
       "      <td>1.0</td>\n",
       "      <td>1.0</td>\n",
       "      <td>0.962573</td>\n",
       "      <td>0.981217</td>\n",
       "      <td>1.0</td>\n",
       "      <td>0.988758</td>\n",
       "      <td>0.014978</td>\n",
       "      <td>1</td>\n",
       "    </tr>\n",
       "  </tbody>\n",
       "</table>\n",
       "</div>"
      ],
      "text/plain": [
       "   mean_fit_time  std_fit_time  mean_score_time  std_score_time param_alpha  \\\n",
       "0       0.036857      0.041976         0.015714        0.012947         1.0   \n",
       "\n",
       "  param_binarize                           params  split0_test_score  \\\n",
       "0            0.0  {'alpha': 1.0, 'binarize': 0.0}                1.0   \n",
       "\n",
       "   split1_test_score  split2_test_score  split3_test_score  split4_test_score  \\\n",
       "0                1.0           0.962573           0.981217                1.0   \n",
       "\n",
       "   mean_test_score  std_test_score  rank_test_score  \n",
       "0         0.988758        0.014978                1  "
      ]
     },
     "execution_count": 11,
     "metadata": {},
     "output_type": "execute_result"
    }
   ],
   "source": [
    "re=grid.cv_results_\n",
    "table=pd.DataFrame.from_dict(re)\n",
    "table"
   ]
  },
  {
   "cell_type": "code",
   "execution_count": 12,
   "metadata": {},
   "outputs": [
    {
     "name": "stdout",
     "output_type": "stream",
     "text": [
      "Best parameter {'alpha': 1.0, 'binarize': 0.0} \n",
      "Best Estimator BernoulliNB() \n",
      "Best Score 0.9887580070259545 \n"
     ]
    }
   ],
   "source": [
    "bestParams=grid.best_params_\n",
    "bestEstimator=grid.best_estimator_\n",
    "bestScore=grid.best_score_\n",
    "print(\"Best parameter {} \".format(bestParams))\n",
    "print(\"Best Estimator {} \".format(bestEstimator))\n",
    "print(\"Best Score {} \".format(bestScore))"
   ]
  },
  {
   "cell_type": "code",
   "execution_count": 13,
   "metadata": {},
   "outputs": [],
   "source": [
    "gridPred=grid.predict(x_test)"
   ]
  },
  {
   "cell_type": "code",
   "execution_count": 14,
   "metadata": {},
   "outputs": [
    {
     "name": "stdout",
     "output_type": "stream",
     "text": [
      "[[51  0]\n",
      " [ 3 79]]\n"
     ]
    }
   ],
   "source": [
    "from sklearn.metrics import confusion_matrix\n",
    "cm=confusion_matrix(y_test,gridPred)\n",
    "print(cm)"
   ]
  },
  {
   "cell_type": "code",
   "execution_count": 15,
   "metadata": {},
   "outputs": [
    {
     "name": "stdout",
     "output_type": "stream",
     "text": [
      "              precision    recall  f1-score   support\n",
      "\n",
      "           0       0.94      1.00      0.97        51\n",
      "           1       1.00      0.96      0.98        82\n",
      "\n",
      "    accuracy                           0.98       133\n",
      "   macro avg       0.97      0.98      0.98       133\n",
      "weighted avg       0.98      0.98      0.98       133\n",
      "\n"
     ]
    }
   ],
   "source": [
    "from sklearn.metrics import classification_report\n",
    "clf_report=classification_report(y_test,gridPred)\n",
    "print(clf_report)"
   ]
  },
  {
   "cell_type": "code",
   "execution_count": 16,
   "metadata": {},
   "outputs": [
    {
     "data": {
      "text/plain": [
       "1.0"
      ]
     },
     "execution_count": 16,
     "metadata": {},
     "output_type": "execute_result"
    }
   ],
   "source": [
    "from sklearn.metrics import roc_auc_score\n",
    "roc_auc_score(y_test,grid.predict_proba(x_test)[:,1])"
   ]
  },
  {
   "cell_type": "code",
   "execution_count": 17,
   "metadata": {},
   "outputs": [
    {
     "name": "stdout",
     "output_type": "stream",
     "text": [
      "0.9775556904684072\n"
     ]
    }
   ],
   "source": [
    "from sklearn.metrics import f1_score\n",
    "fscore=f1_score(y_test,gridPred,average='weighted')\n",
    "print(fscore)"
   ]
  },
  {
   "cell_type": "code",
   "execution_count": 18,
   "metadata": {},
   "outputs": [
    {
     "data": {
      "text/plain": [
       "Index(['age', 'bp', 'al', 'su', 'bgr', 'bu', 'sc', 'sod', 'pot', 'hrmo', 'pcv',\n",
       "       'wc', 'rc', 'sg_b', 'sg_c', 'sg_d', 'sg_e', 'rbc_normal', 'pc_normal',\n",
       "       'pcc_present', 'ba_present', 'htn_yes', 'dm_yes', 'cad_yes',\n",
       "       'appet_yes', 'pe_yes', 'ane_yes'],\n",
       "      dtype='object')"
      ]
     },
     "execution_count": 18,
     "metadata": {},
     "output_type": "execute_result"
    }
   ],
   "source": [
    "indep.columns"
   ]
  },
  {
   "cell_type": "code",
   "execution_count": 19,
   "metadata": {},
   "outputs": [
    {
     "name": "stdout",
     "output_type": "stream",
     "text": [
      "AGE:21\n",
      "BP:55.34\n",
      "AL:2.3\n",
      "SU:2\n",
      "BGR:89.3\n",
      "BU:34.3\n",
      "SC:2\n",
      "SOD120.4\n",
      "POT:2.3\n",
      "HRMO:7.4\n",
      "PCV:23\n",
      "WC:1200\n",
      "RC:2.5\n",
      "SG B:0\n",
      "SG C:1\n",
      "SG D:0\n",
      "SG E:0\n",
      "RBC NORMAL:1\n",
      "PC NORMAL:0\n",
      "PC PRESENT:1\n",
      "BA PRESENT:1\n",
      "HTN YES:1\n",
      "DM YES:0\n",
      "CAD YES:0\n",
      "APPET YES:1\n",
      "PE YES1\n",
      "ANE YES:0\n"
     ]
    }
   ],
   "source": [
    "age=int(input(\"AGE:\"))\n",
    "bp=float(input(\"BP:\"))\n",
    "al=float(input(\"AL:\"))\n",
    "su=int(input(\"SU:\"))\n",
    "bgr=float(input(\"BGR:\"))\n",
    "bu=float(input(\"BU:\"))\n",
    "sc=int(input(\"SC:\"))\n",
    "sod=float(input(\"SOD\"))\n",
    "pot=float(input(\"POT:\"))\n",
    "hrmo=float(input(\"HRMO:\"))\n",
    "pcv=int(input(\"PCV:\"))\n",
    "wc=int(input(\"WC:\"))\n",
    "rc=float(input(\"RC:\"))\n",
    "sg_b=int(input(\"SG B:\"))\n",
    "sg_c=int(input(\"SG C:\"))\n",
    "sg_d=int(input(\"SG D:\"))\n",
    "sg_e=int(input(\"SG E:\"))\n",
    "rbc_normal=int(input(\"RBC NORMAL:\"))\n",
    "pc_normal=int(input(\"PC NORMAL:\"))\n",
    "pcc_present=int(input(\"PC PRESENT:\"))\n",
    "ba_present=int(input(\"BA PRESENT:\"))\n",
    "htn_yes=int(input(\"HTN YES:\"))\n",
    "dm_yes=int(input(\"DM YES:\"))\n",
    "cad_yes=int(input(\"CAD YES:\"))\n",
    "appet_yes=int(input(\"APPET YES:\"))\n",
    "pe_yes=int(input(\"PE YES\"))\n",
    "ane_yes=int(input(\"ANE YES:\"))"
   ]
  },
  {
   "cell_type": "code",
   "execution_count": 20,
   "metadata": {},
   "outputs": [],
   "source": [
    "Prediction=grid.predict([[age,bp,al,su, bgr, bu, sc, sod, pot, hrmo, pcv,\n",
    "       wc, rc, sg_b, sg_c, sg_d, sg_e, rbc_normal, pc_normal,\n",
    "       pcc_present, ba_present, htn_yes, dm_yes, cad_yes,\n",
    "       appet_yes, pe_yes, ane_yes]])"
   ]
  },
  {
   "cell_type": "code",
   "execution_count": 21,
   "metadata": {},
   "outputs": [
    {
     "name": "stdout",
     "output_type": "stream",
     "text": [
      " Prediction Value : [1] \n"
     ]
    }
   ],
   "source": [
    "print(\" Prediction Value : {} \".format(Prediction))"
   ]
  },
  {
   "cell_type": "code",
   "execution_count": null,
   "metadata": {},
   "outputs": [],
   "source": []
  }
 ],
 "metadata": {
  "kernelspec": {
   "display_name": "Python 3",
   "language": "python",
   "name": "python3"
  },
  "language_info": {
   "codemirror_mode": {
    "name": "ipython",
    "version": 3
   },
   "file_extension": ".py",
   "mimetype": "text/x-python",
   "name": "python",
   "nbconvert_exporter": "python",
   "pygments_lexer": "ipython3",
   "version": "3.7.4"
  }
 },
 "nbformat": 4,
 "nbformat_minor": 2
}
