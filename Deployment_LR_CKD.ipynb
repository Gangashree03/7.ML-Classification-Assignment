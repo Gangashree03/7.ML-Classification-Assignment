{
 "cells": [
  {
   "cell_type": "code",
   "execution_count": 1,
   "metadata": {},
   "outputs": [
    {
     "name": "stdout",
     "output_type": "stream",
     "text": [
      "AGE:21\n",
      "BP:55.34\n",
      "AL:2.3\n",
      "SU:2\n",
      "BGR:89.3\n",
      "BU:34.3\n",
      "SC:2\n",
      "SOD120.4\n",
      "POT:2.3\n",
      "HRMO:7.4\n",
      "PCV:23\n",
      "WC:1200\n",
      "RC:2.5\n",
      "SG B:0\n",
      "SG C:1\n",
      "SG D:0\n",
      "SG E:0\n",
      "RBC NORMAL:1\n",
      "PC NORMAL:0\n",
      "PC PRESENT:1\n",
      "BA PRESENT:1\n",
      "HTN YES:1\n",
      "DM YES:0\n",
      "CAD YES:0\n",
      "APPET YES:1\n",
      "PE YES1\n",
      "ANE YES:0\n"
     ]
    }
   ],
   "source": [
    "age=int(input(\"AGE:\"))\n",
    "bp=float(input(\"BP:\"))\n",
    "al=float(input(\"AL:\"))\n",
    "su=int(input(\"SU:\"))\n",
    "bgr=float(input(\"BGR:\"))\n",
    "bu=float(input(\"BU:\"))\n",
    "sc=int(input(\"SC:\"))\n",
    "sod=float(input(\"SOD\"))\n",
    "pot=float(input(\"POT:\"))\n",
    "hrmo=float(input(\"HRMO:\"))\n",
    "pcv=int(input(\"PCV:\"))\n",
    "wc=int(input(\"WC:\"))\n",
    "rc=float(input(\"RC:\"))\n",
    "sg_b=int(input(\"SG B:\"))\n",
    "sg_c=int(input(\"SG C:\"))\n",
    "sg_d=int(input(\"SG D:\"))\n",
    "sg_e=int(input(\"SG E:\"))\n",
    "rbc_normal=int(input(\"RBC NORMAL:\"))\n",
    "pc_normal=int(input(\"PC NORMAL:\"))\n",
    "pcc_present=int(input(\"PC PRESENT:\"))\n",
    "ba_present=int(input(\"BA PRESENT:\"))\n",
    "htn_yes=int(input(\"HTN YES:\"))\n",
    "dm_yes=int(input(\"DM YES:\"))\n",
    "cad_yes=int(input(\"CAD YES:\"))\n",
    "appet_yes=int(input(\"APPET YES:\"))\n",
    "pe_yes=int(input(\"PE YES\"))\n",
    "ane_yes=int(input(\"ANE YES:\"))"
   ]
  },
  {
   "cell_type": "code",
   "execution_count": 3,
   "metadata": {},
   "outputs": [
    {
     "name": "stdout",
     "output_type": "stream",
     "text": [
      "Future Predictions : [1] \n"
     ]
    }
   ],
   "source": [
    "import pickle\n",
    "loadedModel=pickle.load(open(\"FinalModel_LR.sav\",'rb'))\n",
    "result=loadedModel.predict([[age,bp,al,su, bgr, bu, sc, sod, pot, hrmo, pcv,\n",
    "       wc, rc, sg_b, sg_c, sg_d, sg_e, rbc_normal, pc_normal,\n",
    "       pcc_present, ba_present, htn_yes, dm_yes, cad_yes,\n",
    "       appet_yes, pe_yes, ane_yes]])\n",
    "print(\"Future Predictions : {} \".format(result))"
   ]
  },
  {
   "cell_type": "code",
   "execution_count": null,
   "metadata": {},
   "outputs": [],
   "source": []
  }
 ],
 "metadata": {
  "kernelspec": {
   "display_name": "Python 3",
   "language": "python",
   "name": "python3"
  },
  "language_info": {
   "codemirror_mode": {
    "name": "ipython",
    "version": 3
   },
   "file_extension": ".py",
   "mimetype": "text/x-python",
   "name": "python",
   "nbconvert_exporter": "python",
   "pygments_lexer": "ipython3",
   "version": "3.7.4"
  }
 },
 "nbformat": 4,
 "nbformat_minor": 2
}
